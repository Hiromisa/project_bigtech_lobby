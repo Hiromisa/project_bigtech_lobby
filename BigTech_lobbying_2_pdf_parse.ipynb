{
 "cells": [
  {
   "cell_type": "code",
   "execution_count": 1,
   "id": "2cca1b55",
   "metadata": {},
   "outputs": [
    {
     "name": "stderr",
     "output_type": "stream",
     "text": [
      "/Users/hiromi/.pyenv/versions/3.8.10/lib/python3.8/site-packages/pandas/compat/__init__.py:97: UserWarning: Could not import the lzma module. Your installed Python is incomplete. Attempting to use lzma compression will result in a RuntimeError.\n",
      "  warnings.warn(msg)\n"
     ]
    }
   ],
   "source": [
    "import zipfile\n",
    "import base64\n",
    "import io\n",
    "import glob\n",
    "import time\n",
    "import json\n",
    "import os\n",
    "import requests\n",
    "import mimetypes\n",
    "import pandas as pd\n",
    "from bs4 import BeautifulSoup\n",
    "import re\n",
    "from urllib.parse import urlencode\n",
    "from urllib.parse import quote_plus\n",
    "import tika\n",
    "from tika import parser\n",
    "pd.set_option(\"max_colwidth\",200)"
   ]
  },
  {
   "cell_type": "markdown",
   "id": "9c3780ac",
   "metadata": {},
   "source": [
    "### Use 'bigtech_lobby - formatted.csv' \n",
    "This csv is already reflected amendament & filter 2010-2021. I did this work on Google spreadsheet. "
   ]
  },
  {
   "cell_type": "code",
   "execution_count": 2,
   "id": "c7373287",
   "metadata": {},
   "outputs": [],
   "source": [
    "df_bigtech = pd.read_csv('bigtech_lobby - formatted.csv')"
   ]
  },
  {
   "cell_type": "code",
   "execution_count": 3,
   "id": "1db31987",
   "metadata": {
    "scrolled": true
   },
   "outputs": [
    {
     "data": {
      "text/html": [
       "<div>\n",
       "<style scoped>\n",
       "    .dataframe tbody tr th:only-of-type {\n",
       "        vertical-align: middle;\n",
       "    }\n",
       "\n",
       "    .dataframe tbody tr th {\n",
       "        vertical-align: top;\n",
       "    }\n",
       "\n",
       "    .dataframe thead th {\n",
       "        text-align: right;\n",
       "    }\n",
       "</style>\n",
       "<table border=\"1\" class=\"dataframe\">\n",
       "  <thead>\n",
       "    <tr style=\"text-align: right;\">\n",
       "      <th></th>\n",
       "      <th>season</th>\n",
       "      <th>year</th>\n",
       "      <th>amazon_lobby</th>\n",
       "      <th>facebook_lobby</th>\n",
       "      <th>google_lobby</th>\n",
       "      <th>apple_lobby</th>\n",
       "      <th>microsoft_lobby</th>\n",
       "      <th>amazon_link</th>\n",
       "      <th>facebook_link</th>\n",
       "      <th>google_link</th>\n",
       "      <th>apple_link</th>\n",
       "      <th>microsoft_link</th>\n",
       "    </tr>\n",
       "  </thead>\n",
       "  <tbody>\n",
       "    <tr>\n",
       "      <th>0</th>\n",
       "      <td>2021 2nd Quarter - Report</td>\n",
       "      <td>2021</td>\n",
       "      <td>4860000</td>\n",
       "      <td>4770000</td>\n",
       "      <td>2090000</td>\n",
       "      <td>1640000</td>\n",
       "      <td>2470000</td>\n",
       "      <td>https://lda.senate.gov//filings/public/filing/532894c6-bc65-4e48-b7e9-8c2747fa5426/print/</td>\n",
       "      <td>https://lda.senate.gov//filings/public/filing/20bc0f7b-a3d0-4c00-bc5d-72a405ff16e7/print/</td>\n",
       "      <td>https://lda.senate.gov//filings/public/filing/bf977a89-15c2-41f5-b59d-7e7a6e17b210/print/</td>\n",
       "      <td>https://lda.senate.gov//filings/public/filing/008a3286-d6d5-4601-afe3-f4c4361785fc/print/</td>\n",
       "      <td>https://lda.senate.gov//filings/public/filing/fad755f6-ba3a-480c-a3a1-678bb14c0a5a/print/</td>\n",
       "    </tr>\n",
       "    <tr>\n",
       "      <th>1</th>\n",
       "      <td>2021 1st Quarter - Report</td>\n",
       "      <td>2021</td>\n",
       "      <td>4800000</td>\n",
       "      <td>4790000</td>\n",
       "      <td>2690000</td>\n",
       "      <td>1460000</td>\n",
       "      <td>2590000</td>\n",
       "      <td>https://lda.senate.gov//filings/public/filing/a87a3a40-7aa3-4b09-a90a-1ae233f3f69f/print/</td>\n",
       "      <td>https://lda.senate.gov//filings/public/filing/75504307-e84f-4819-9573-25c28867b498/print/</td>\n",
       "      <td>https://lda.senate.gov//filings/public/filing/047f925e-aa0c-46fa-95aa-f78c29b4f5ee/print/</td>\n",
       "      <td>https://lda.senate.gov//filings/public/filing/931b23da-8021-4f33-8f4b-70e571dba9b8/print/</td>\n",
       "      <td>https://lda.senate.gov//filings/public/filing/d50d3ddf-86ca-40e6-8f35-91d66edc8d92/print/</td>\n",
       "    </tr>\n",
       "    <tr>\n",
       "      <th>2</th>\n",
       "      <td>2020 4th Quarter - Report</td>\n",
       "      <td>2020</td>\n",
       "      <td>4740000</td>\n",
       "      <td>4690000</td>\n",
       "      <td>2110000</td>\n",
       "      <td>1450000</td>\n",
       "      <td>2190000</td>\n",
       "      <td>https://lda.senate.gov//filings/public/filing/57ffc505-528c-4de6-a5fc-9c3c9a01b798/print/</td>\n",
       "      <td>https://lda.senate.gov//filings/public/filing/9caddbc5-946a-4148-8ef3-acc0a97e721f/print/</td>\n",
       "      <td>https://lda.senate.gov//filings/public/filing/65749c45-3697-492e-8430-520cfa2fd6ad/print/</td>\n",
       "      <td>https://lda.senate.gov//filings/public/filing/cad6db2f-c3ca-4b9d-bc24-4c56fc7eaadb/print/</td>\n",
       "      <td>https://lda.senate.gov//filings/public/filing/0906e6e8-20f7-4e95-a649-68381ad16c87/print/</td>\n",
       "    </tr>\n",
       "  </tbody>\n",
       "</table>\n",
       "</div>"
      ],
      "text/plain": [
       "                      season  year  amazon_lobby  facebook_lobby  \\\n",
       "0  2021 2nd Quarter - Report  2021       4860000         4770000   \n",
       "1  2021 1st Quarter - Report  2021       4800000         4790000   \n",
       "2  2020 4th Quarter - Report  2020       4740000         4690000   \n",
       "\n",
       "   google_lobby  apple_lobby  microsoft_lobby  \\\n",
       "0       2090000      1640000          2470000   \n",
       "1       2690000      1460000          2590000   \n",
       "2       2110000      1450000          2190000   \n",
       "\n",
       "                                                                                 amazon_link  \\\n",
       "0  https://lda.senate.gov//filings/public/filing/532894c6-bc65-4e48-b7e9-8c2747fa5426/print/   \n",
       "1  https://lda.senate.gov//filings/public/filing/a87a3a40-7aa3-4b09-a90a-1ae233f3f69f/print/   \n",
       "2  https://lda.senate.gov//filings/public/filing/57ffc505-528c-4de6-a5fc-9c3c9a01b798/print/   \n",
       "\n",
       "                                                                               facebook_link  \\\n",
       "0  https://lda.senate.gov//filings/public/filing/20bc0f7b-a3d0-4c00-bc5d-72a405ff16e7/print/   \n",
       "1  https://lda.senate.gov//filings/public/filing/75504307-e84f-4819-9573-25c28867b498/print/   \n",
       "2  https://lda.senate.gov//filings/public/filing/9caddbc5-946a-4148-8ef3-acc0a97e721f/print/   \n",
       "\n",
       "                                                                                 google_link  \\\n",
       "0  https://lda.senate.gov//filings/public/filing/bf977a89-15c2-41f5-b59d-7e7a6e17b210/print/   \n",
       "1  https://lda.senate.gov//filings/public/filing/047f925e-aa0c-46fa-95aa-f78c29b4f5ee/print/   \n",
       "2  https://lda.senate.gov//filings/public/filing/65749c45-3697-492e-8430-520cfa2fd6ad/print/   \n",
       "\n",
       "                                                                                  apple_link  \\\n",
       "0  https://lda.senate.gov//filings/public/filing/008a3286-d6d5-4601-afe3-f4c4361785fc/print/   \n",
       "1  https://lda.senate.gov//filings/public/filing/931b23da-8021-4f33-8f4b-70e571dba9b8/print/   \n",
       "2  https://lda.senate.gov//filings/public/filing/cad6db2f-c3ca-4b9d-bc24-4c56fc7eaadb/print/   \n",
       "\n",
       "                                                                              microsoft_link  \n",
       "0  https://lda.senate.gov//filings/public/filing/fad755f6-ba3a-480c-a3a1-678bb14c0a5a/print/  \n",
       "1  https://lda.senate.gov//filings/public/filing/d50d3ddf-86ca-40e6-8f35-91d66edc8d92/print/  \n",
       "2  https://lda.senate.gov//filings/public/filing/0906e6e8-20f7-4e95-a649-68381ad16c87/print/  "
      ]
     },
     "execution_count": 3,
     "metadata": {},
     "output_type": "execute_result"
    }
   ],
   "source": [
    "df_bigtech.head(3)"
   ]
  },
  {
   "cell_type": "code",
   "execution_count": 4,
   "id": "8a15ea26",
   "metadata": {},
   "outputs": [
    {
     "name": "stdout",
     "output_type": "stream",
     "text": [
      "<class 'pandas.core.frame.DataFrame'>\n",
      "RangeIndex: 46 entries, 0 to 45\n",
      "Data columns (total 12 columns):\n",
      " #   Column           Non-Null Count  Dtype \n",
      "---  ------           --------------  ----- \n",
      " 0   season           46 non-null     object\n",
      " 1   year             46 non-null     int64 \n",
      " 2   amazon_lobby     46 non-null     int64 \n",
      " 3   facebook_lobby   46 non-null     int64 \n",
      " 4   google_lobby     46 non-null     int64 \n",
      " 5   apple_lobby      46 non-null     int64 \n",
      " 6   microsoft_lobby  46 non-null     int64 \n",
      " 7   amazon_link      46 non-null     object\n",
      " 8   facebook_link    46 non-null     object\n",
      " 9   google_link      46 non-null     object\n",
      " 10  apple_link       46 non-null     object\n",
      " 11  microsoft_link   46 non-null     object\n",
      "dtypes: int64(6), object(6)\n",
      "memory usage: 4.4+ KB\n"
     ]
    }
   ],
   "source": [
    "df_bigtech.info()"
   ]
  },
  {
   "cell_type": "code",
   "execution_count": null,
   "id": "c44a4570",
   "metadata": {},
   "outputs": [],
   "source": [
    "# crt_bill_text = []\n",
    "\n",
    "# for bill in crt_states_df['bill_url']:\n",
    "#     parsed = parser.from_file(bill)\n",
    "#     bill_text = parsed['content'].strip()\n",
    "#     crt_bill_text.append(bill_text)\n",
    "    \n",
    "# crt_states_df['bill_text'] = crt_bill_text"
   ]
  },
  {
   "cell_type": "code",
   "execution_count": 5,
   "id": "e13f1323",
   "metadata": {},
   "outputs": [
    {
     "name": "stderr",
     "output_type": "stream",
     "text": [
      "2021-08-07 15:36:27,752 [MainThread  ] [INFO ]  Retrieving https://lda.senate.gov//filings/public/filing/532894c6-bc65-4e48-b7e9-8c2747fa5426/print/ to /var/folders/l4/syqwd3ts14b0swly1g_hr3h40000gn/T/filings-public-filing-532894c6-bc65-4e48-b7e9-8c2747fa5426-print.\n",
      "2021-08-07 15:36:28,393 [MainThread  ] [INFO ]  Retrieving https://lda.senate.gov//filings/public/filing/a87a3a40-7aa3-4b09-a90a-1ae233f3f69f/print/ to /var/folders/l4/syqwd3ts14b0swly1g_hr3h40000gn/T/filings-public-filing-a87a3a40-7aa3-4b09-a90a-1ae233f3f69f-print.\n",
      "2021-08-07 15:36:28,695 [MainThread  ] [INFO ]  Retrieving https://lda.senate.gov//filings/public/filing/57ffc505-528c-4de6-a5fc-9c3c9a01b798/print/ to /var/folders/l4/syqwd3ts14b0swly1g_hr3h40000gn/T/filings-public-filing-57ffc505-528c-4de6-a5fc-9c3c9a01b798-print.\n",
      "2021-08-07 15:36:29,000 [MainThread  ] [INFO ]  Retrieving https://lda.senate.gov//filings/public/filing/1c54ad52-6bd7-4474-aeb4-c2ebaaa907c7/print/ to /var/folders/l4/syqwd3ts14b0swly1g_hr3h40000gn/T/filings-public-filing-1c54ad52-6bd7-4474-aeb4-c2ebaaa907c7-print.\n",
      "2021-08-07 15:36:29,415 [MainThread  ] [INFO ]  Retrieving https://lda.senate.gov//filings/public/filing/106caa54-c04c-46db-9da3-8d5965289bb2/print/ to /var/folders/l4/syqwd3ts14b0swly1g_hr3h40000gn/T/filings-public-filing-106caa54-c04c-46db-9da3-8d5965289bb2-print.\n",
      "2021-08-07 15:36:29,741 [MainThread  ] [INFO ]  Retrieving https://lda.senate.gov//filings/public/filing/cf82cd3c-d32f-4109-93a7-c9cac01d35e5/print/ to /var/folders/l4/syqwd3ts14b0swly1g_hr3h40000gn/T/filings-public-filing-cf82cd3c-d32f-4109-93a7-c9cac01d35e5-print.\n",
      "2021-08-07 15:36:30,085 [MainThread  ] [INFO ]  Retrieving https://lda.senate.gov//filings/public/filing/a5dcb1c8-7de1-4714-915b-df78c54ee722/print/ to /var/folders/l4/syqwd3ts14b0swly1g_hr3h40000gn/T/filings-public-filing-a5dcb1c8-7de1-4714-915b-df78c54ee722-print.\n",
      "2021-08-07 15:36:30,397 [MainThread  ] [INFO ]  Retrieving https://lda.senate.gov//filings/public/filing/f70c588e-bc9c-4bc1-9bf4-3eb0d7e1b8ed/print/ to /var/folders/l4/syqwd3ts14b0swly1g_hr3h40000gn/T/filings-public-filing-f70c588e-bc9c-4bc1-9bf4-3eb0d7e1b8ed-print.\n",
      "2021-08-07 15:36:30,817 [MainThread  ] [INFO ]  Retrieving https://lda.senate.gov//filings/public/filing/11501764-f4f1-4ca4-8591-bd883301c395/print/ to /var/folders/l4/syqwd3ts14b0swly1g_hr3h40000gn/T/filings-public-filing-11501764-f4f1-4ca4-8591-bd883301c395-print.\n",
      "2021-08-07 15:36:31,156 [MainThread  ] [INFO ]  Retrieving https://lda.senate.gov//filings/public/filing/4dff7532-6335-4510-b249-1358362f9bde/print/ to /var/folders/l4/syqwd3ts14b0swly1g_hr3h40000gn/T/filings-public-filing-4dff7532-6335-4510-b249-1358362f9bde-print.\n",
      "2021-08-07 15:36:31,451 [MainThread  ] [INFO ]  Retrieving https://lda.senate.gov//filings/public/filing/f53236d0-d984-4473-b39e-0282aa855b73/print/ to /var/folders/l4/syqwd3ts14b0swly1g_hr3h40000gn/T/filings-public-filing-f53236d0-d984-4473-b39e-0282aa855b73-print.\n",
      "2021-08-07 15:36:31,745 [MainThread  ] [INFO ]  Retrieving https://lda.senate.gov//filings/public/filing/70dcd1ce-394b-4d13-9af9-506bc5eb5652/print/ to /var/folders/l4/syqwd3ts14b0swly1g_hr3h40000gn/T/filings-public-filing-70dcd1ce-394b-4d13-9af9-506bc5eb5652-print.\n",
      "2021-08-07 15:36:32,035 [MainThread  ] [INFO ]  Retrieving https://lda.senate.gov//filings/public/filing/4a1d97b7-7149-4ecd-913b-3a6b9f8fba43/print/ to /var/folders/l4/syqwd3ts14b0swly1g_hr3h40000gn/T/filings-public-filing-4a1d97b7-7149-4ecd-913b-3a6b9f8fba43-print.\n",
      "2021-08-07 15:36:32,361 [MainThread  ] [INFO ]  Retrieving https://lda.senate.gov//filings/public/filing/5dab3f18-708d-4acd-a67e-e2af8177540e/print/ to /var/folders/l4/syqwd3ts14b0swly1g_hr3h40000gn/T/filings-public-filing-5dab3f18-708d-4acd-a67e-e2af8177540e-print.\n",
      "2021-08-07 15:36:32,639 [MainThread  ] [INFO ]  Retrieving https://lda.senate.gov//filings/public/filing/66f00011-a806-4fc6-a47a-ab744b633b27/print/ to /var/folders/l4/syqwd3ts14b0swly1g_hr3h40000gn/T/filings-public-filing-66f00011-a806-4fc6-a47a-ab744b633b27-print.\n",
      "2021-08-07 15:36:32,961 [MainThread  ] [INFO ]  Retrieving https://lda.senate.gov//filings/public/filing/8fbc28b7-e74a-4f14-ba82-fde29b697cbb/print/ to /var/folders/l4/syqwd3ts14b0swly1g_hr3h40000gn/T/filings-public-filing-8fbc28b7-e74a-4f14-ba82-fde29b697cbb-print.\n",
      "2021-08-07 15:36:33,258 [MainThread  ] [INFO ]  Retrieving https://lda.senate.gov//filings/public/filing/28e3539b-17d6-4025-aefa-1b1dc0c45887/print/ to /var/folders/l4/syqwd3ts14b0swly1g_hr3h40000gn/T/filings-public-filing-28e3539b-17d6-4025-aefa-1b1dc0c45887-print.\n",
      "2021-08-07 15:36:33,559 [MainThread  ] [INFO ]  Retrieving https://lda.senate.gov//filings/public/filing/1138d649-6673-4355-a53b-8d5d76e0957a/print/ to /var/folders/l4/syqwd3ts14b0swly1g_hr3h40000gn/T/filings-public-filing-1138d649-6673-4355-a53b-8d5d76e0957a-print.\n",
      "2021-08-07 15:36:33,819 [MainThread  ] [INFO ]  Retrieving https://lda.senate.gov//filings/public/filing/6d1cf467-a47a-4e94-bdf3-4f9a935f3839/print/ to /var/folders/l4/syqwd3ts14b0swly1g_hr3h40000gn/T/filings-public-filing-6d1cf467-a47a-4e94-bdf3-4f9a935f3839-print.\n",
      "2021-08-07 15:36:34,081 [MainThread  ] [INFO ]  Retrieving https://lda.senate.gov//filings/public/filing/67c6f981-f324-4f9e-9231-9bdeef886915/print/ to /var/folders/l4/syqwd3ts14b0swly1g_hr3h40000gn/T/filings-public-filing-67c6f981-f324-4f9e-9231-9bdeef886915-print.\n",
      "2021-08-07 15:36:34,368 [MainThread  ] [INFO ]  Retrieving https://lda.senate.gov//filings/public/filing/ce8114ce-ff40-48ac-ade2-ff1ca99dfa36/print/ to /var/folders/l4/syqwd3ts14b0swly1g_hr3h40000gn/T/filings-public-filing-ce8114ce-ff40-48ac-ade2-ff1ca99dfa36-print.\n",
      "2021-08-07 15:36:34,638 [MainThread  ] [INFO ]  Retrieving https://lda.senate.gov//filings/public/filing/87759ccd-06d0-4198-8ed4-1793247f562e/print/ to /var/folders/l4/syqwd3ts14b0swly1g_hr3h40000gn/T/filings-public-filing-87759ccd-06d0-4198-8ed4-1793247f562e-print.\n",
      "2021-08-07 15:36:34,919 [MainThread  ] [INFO ]  Retrieving https://lda.senate.gov//filings/public/filing/aa5cdbf4-f1df-4bb6-95cd-fe5e8da0ec20/print/ to /var/folders/l4/syqwd3ts14b0swly1g_hr3h40000gn/T/filings-public-filing-aa5cdbf4-f1df-4bb6-95cd-fe5e8da0ec20-print.\n",
      "2021-08-07 15:36:35,185 [MainThread  ] [INFO ]  Retrieving https://lda.senate.gov//filings/public/filing/35b2aac4-f48b-43a7-ba3d-88ebc60bfcd3/print/ to /var/folders/l4/syqwd3ts14b0swly1g_hr3h40000gn/T/filings-public-filing-35b2aac4-f48b-43a7-ba3d-88ebc60bfcd3-print.\n",
      "2021-08-07 15:36:35,494 [MainThread  ] [INFO ]  Retrieving https://lda.senate.gov//filings/public/filing/2ce4b902-5f03-4198-90f3-d2d4e2c44b07/print/ to /var/folders/l4/syqwd3ts14b0swly1g_hr3h40000gn/T/filings-public-filing-2ce4b902-5f03-4198-90f3-d2d4e2c44b07-print.\n",
      "2021-08-07 15:36:35,780 [MainThread  ] [INFO ]  Retrieving https://lda.senate.gov//filings/public/filing/c16a28ec-8726-42f8-813a-f39a87af0a9f/print/ to /var/folders/l4/syqwd3ts14b0swly1g_hr3h40000gn/T/filings-public-filing-c16a28ec-8726-42f8-813a-f39a87af0a9f-print.\n",
      "2021-08-07 15:36:36,048 [MainThread  ] [INFO ]  Retrieving https://lda.senate.gov//filings/public/filing/a310e434-0303-4af5-834d-607238a87528/print/ to /var/folders/l4/syqwd3ts14b0swly1g_hr3h40000gn/T/filings-public-filing-a310e434-0303-4af5-834d-607238a87528-print.\n",
      "2021-08-07 15:36:36,304 [MainThread  ] [INFO ]  Retrieving https://lda.senate.gov//filings/public/filing/058ba22d-ea6a-4ec5-a387-2f7e42bd216f/print/ to /var/folders/l4/syqwd3ts14b0swly1g_hr3h40000gn/T/filings-public-filing-058ba22d-ea6a-4ec5-a387-2f7e42bd216f-print.\n",
      "2021-08-07 15:36:36,572 [MainThread  ] [INFO ]  Retrieving https://lda.senate.gov//filings/public/filing/e05ca871-730a-49d9-8472-19218cbd7315/print/ to /var/folders/l4/syqwd3ts14b0swly1g_hr3h40000gn/T/filings-public-filing-e05ca871-730a-49d9-8472-19218cbd7315-print.\n",
      "2021-08-07 15:36:36,814 [MainThread  ] [INFO ]  Retrieving https://lda.senate.gov//filings/public/filing/c44abdcf-b6ff-40f3-a8e3-bce8ddcd21de/print/ to /var/folders/l4/syqwd3ts14b0swly1g_hr3h40000gn/T/filings-public-filing-c44abdcf-b6ff-40f3-a8e3-bce8ddcd21de-print.\n",
      "2021-08-07 15:36:37,090 [MainThread  ] [INFO ]  Retrieving https://lda.senate.gov//filings/public/filing/f59b7a18-a5e9-4107-b51f-b489d7a27066/print/ to /var/folders/l4/syqwd3ts14b0swly1g_hr3h40000gn/T/filings-public-filing-f59b7a18-a5e9-4107-b51f-b489d7a27066-print.\n"
     ]
    },
    {
     "name": "stderr",
     "output_type": "stream",
     "text": [
      "2021-08-07 15:36:37,377 [MainThread  ] [INFO ]  Retrieving https://lda.senate.gov//filings/public/filing/72477a97-5625-45ad-9dfa-c3461bb4e5ea/print/ to /var/folders/l4/syqwd3ts14b0swly1g_hr3h40000gn/T/filings-public-filing-72477a97-5625-45ad-9dfa-c3461bb4e5ea-print.\n",
      "2021-08-07 15:36:37,633 [MainThread  ] [INFO ]  Retrieving https://lda.senate.gov//filings/public/filing/26fea122-15fc-41c9-941f-478036ed8e4d/print/ to /var/folders/l4/syqwd3ts14b0swly1g_hr3h40000gn/T/filings-public-filing-26fea122-15fc-41c9-941f-478036ed8e4d-print.\n",
      "2021-08-07 15:36:37,921 [MainThread  ] [INFO ]  Retrieving https://lda.senate.gov//filings/public/filing/87c1525f-8af5-4b18-9a1b-ab4c6b5a4c33/print/ to /var/folders/l4/syqwd3ts14b0swly1g_hr3h40000gn/T/filings-public-filing-87c1525f-8af5-4b18-9a1b-ab4c6b5a4c33-print.\n",
      "2021-08-07 15:36:38,161 [MainThread  ] [INFO ]  Retrieving https://lda.senate.gov//filings/public/filing/5445c45e-4666-443a-b06a-76783626c859/print/ to /var/folders/l4/syqwd3ts14b0swly1g_hr3h40000gn/T/filings-public-filing-5445c45e-4666-443a-b06a-76783626c859-print.\n",
      "2021-08-07 15:36:38,446 [MainThread  ] [INFO ]  Retrieving https://lda.senate.gov//filings/public/filing/ef318e5e-3687-4df9-a32e-e28300908a9f/print/ to /var/folders/l4/syqwd3ts14b0swly1g_hr3h40000gn/T/filings-public-filing-ef318e5e-3687-4df9-a32e-e28300908a9f-print.\n",
      "2021-08-07 15:36:38,701 [MainThread  ] [INFO ]  Retrieving https://lda.senate.gov//filings/public/filing/202fbff7-aeb5-4c16-aef1-becb6aee0809/print/ to /var/folders/l4/syqwd3ts14b0swly1g_hr3h40000gn/T/filings-public-filing-202fbff7-aeb5-4c16-aef1-becb6aee0809-print.\n",
      "2021-08-07 15:36:38,983 [MainThread  ] [INFO ]  Retrieving https://lda.senate.gov//filings/public/filing/d4cdb3ad-f6d9-47ea-a584-b9b9418fbbc4/print/ to /var/folders/l4/syqwd3ts14b0swly1g_hr3h40000gn/T/filings-public-filing-d4cdb3ad-f6d9-47ea-a584-b9b9418fbbc4-print.\n",
      "2021-08-07 15:36:39,219 [MainThread  ] [INFO ]  Retrieving https://lda.senate.gov//filings/public/filing/cbf8118c-86d1-438d-9c38-6128af36cd01/print/ to /var/folders/l4/syqwd3ts14b0swly1g_hr3h40000gn/T/filings-public-filing-cbf8118c-86d1-438d-9c38-6128af36cd01-print.\n",
      "2021-08-07 15:36:39,452 [MainThread  ] [INFO ]  Retrieving https://lda.senate.gov//filings/public/filing/68525110-aa73-41a1-a37a-5a98f68ae617/print/ to /var/folders/l4/syqwd3ts14b0swly1g_hr3h40000gn/T/filings-public-filing-68525110-aa73-41a1-a37a-5a98f68ae617-print.\n",
      "2021-08-07 15:36:39,768 [MainThread  ] [INFO ]  Retrieving https://lda.senate.gov//filings/public/filing/1abc060a-fb9b-435f-b5fd-165f689a469b/print/ to /var/folders/l4/syqwd3ts14b0swly1g_hr3h40000gn/T/filings-public-filing-1abc060a-fb9b-435f-b5fd-165f689a469b-print.\n",
      "2021-08-07 15:36:39,997 [MainThread  ] [INFO ]  Retrieving https://lda.senate.gov//filings/public/filing/9697f855-0779-4a5c-a7bf-20563357ec13/print/ to /var/folders/l4/syqwd3ts14b0swly1g_hr3h40000gn/T/filings-public-filing-9697f855-0779-4a5c-a7bf-20563357ec13-print.\n",
      "2021-08-07 15:36:40,247 [MainThread  ] [INFO ]  Retrieving https://lda.senate.gov//filings/public/filing/0725bc1d-85f5-4523-a712-d13494663fa9/print/ to /var/folders/l4/syqwd3ts14b0swly1g_hr3h40000gn/T/filings-public-filing-0725bc1d-85f5-4523-a712-d13494663fa9-print.\n",
      "2021-08-07 15:36:40,496 [MainThread  ] [INFO ]  Retrieving https://lda.senate.gov//filings/public/filing/d3371cff-36c5-4249-9bd0-d26333b10a95/print/ to /var/folders/l4/syqwd3ts14b0swly1g_hr3h40000gn/T/filings-public-filing-d3371cff-36c5-4249-9bd0-d26333b10a95-print.\n",
      "2021-08-07 15:36:40,863 [MainThread  ] [INFO ]  Retrieving https://lda.senate.gov//filings/public/filing/f3d30c55-120b-45aa-8882-b714802df770/print/ to /var/folders/l4/syqwd3ts14b0swly1g_hr3h40000gn/T/filings-public-filing-f3d30c55-120b-45aa-8882-b714802df770-print.\n",
      "2021-08-07 15:36:41,107 [MainThread  ] [INFO ]  Retrieving https://lda.senate.gov//filings/public/filing/5d79620c-5c7d-48af-86cc-b6fe9bb0f8cb/print/ to /var/folders/l4/syqwd3ts14b0swly1g_hr3h40000gn/T/filings-public-filing-5d79620c-5c7d-48af-86cc-b6fe9bb0f8cb-print.\n"
     ]
    }
   ],
   "source": [
    "amazon_text = []\n",
    "\n",
    "for pdf in df_bigtech['amazon_link']:\n",
    "    try:\n",
    "        parsed = parser.from_file(pdf)\n",
    "        text = parsed['content'].strip().replace('\\n',' ').replace('\\t', ' ').replace(u'\\u200b', ' ') \n",
    "    except:\n",
    "        text = 'no PDF'\n",
    "    amazon_text.append(text)"
   ]
  },
  {
   "cell_type": "code",
   "execution_count": 6,
   "id": "63936712",
   "metadata": {},
   "outputs": [],
   "source": [
    "df_bigtech['amazon_text'] = amazon_text"
   ]
  },
  {
   "cell_type": "code",
   "execution_count": 7,
   "id": "f6164e05",
   "metadata": {},
   "outputs": [
    {
     "name": "stderr",
     "output_type": "stream",
     "text": [
      "2021-08-07 15:37:53,263 [MainThread  ] [INFO ]  Retrieving https://lda.senate.gov//filings/public/filing/20bc0f7b-a3d0-4c00-bc5d-72a405ff16e7/print/ to /var/folders/l4/syqwd3ts14b0swly1g_hr3h40000gn/T/filings-public-filing-20bc0f7b-a3d0-4c00-bc5d-72a405ff16e7-print.\n",
      "2021-08-07 15:37:53,837 [MainThread  ] [INFO ]  Retrieving https://lda.senate.gov//filings/public/filing/75504307-e84f-4819-9573-25c28867b498/print/ to /var/folders/l4/syqwd3ts14b0swly1g_hr3h40000gn/T/filings-public-filing-75504307-e84f-4819-9573-25c28867b498-print.\n",
      "2021-08-07 15:37:59,444 [MainThread  ] [INFO ]  Retrieving https://lda.senate.gov//filings/public/filing/9caddbc5-946a-4148-8ef3-acc0a97e721f/print/ to /var/folders/l4/syqwd3ts14b0swly1g_hr3h40000gn/T/filings-public-filing-9caddbc5-946a-4148-8ef3-acc0a97e721f-print.\n",
      "2021-08-07 15:38:00,504 [MainThread  ] [INFO ]  Retrieving https://lda.senate.gov//filings/public/filing/ddb2d021-2469-4697-a44c-c3aaf959f7d8/print/ to /var/folders/l4/syqwd3ts14b0swly1g_hr3h40000gn/T/filings-public-filing-ddb2d021-2469-4697-a44c-c3aaf959f7d8-print.\n",
      "2021-08-07 15:38:19,231 [MainThread  ] [INFO ]  Retrieving https://lda.senate.gov//filings/public/filing/75293ed8-7f43-4c8b-be3e-c4cf9c93ef3e/print/ to /var/folders/l4/syqwd3ts14b0swly1g_hr3h40000gn/T/filings-public-filing-75293ed8-7f43-4c8b-be3e-c4cf9c93ef3e-print.\n",
      "2021-08-07 15:38:19,840 [MainThread  ] [INFO ]  Retrieving https://lda.senate.gov//filings/public/filing/f2d81986-685c-46d9-88d1-9dcaa19c8605/print/ to /var/folders/l4/syqwd3ts14b0swly1g_hr3h40000gn/T/filings-public-filing-f2d81986-685c-46d9-88d1-9dcaa19c8605-print.\n",
      "2021-08-07 15:38:20,629 [MainThread  ] [INFO ]  Retrieving https://lda.senate.gov//filings/public/filing/dae7fc20-eba1-466f-b060-fc3b8d558506/print/ to /var/folders/l4/syqwd3ts14b0swly1g_hr3h40000gn/T/filings-public-filing-dae7fc20-eba1-466f-b060-fc3b8d558506-print.\n",
      "2021-08-07 15:38:20,948 [MainThread  ] [INFO ]  Retrieving https://lda.senate.gov//filings/public/filing/3f2a4226-94f6-47d0-9756-48e11ea492ae/print/ to /var/folders/l4/syqwd3ts14b0swly1g_hr3h40000gn/T/filings-public-filing-3f2a4226-94f6-47d0-9756-48e11ea492ae-print.\n",
      "2021-08-07 15:38:21,261 [MainThread  ] [INFO ]  Retrieving https://lda.senate.gov//filings/public/filing/00cad027-52b1-46eb-aac9-e871a0f18c49/print/ to /var/folders/l4/syqwd3ts14b0swly1g_hr3h40000gn/T/filings-public-filing-00cad027-52b1-46eb-aac9-e871a0f18c49-print.\n",
      "2021-08-07 15:38:21,601 [MainThread  ] [INFO ]  Retrieving https://lda.senate.gov//filings/public/filing/af507649-b307-4b02-8d1a-196f05a197c5/print/ to /var/folders/l4/syqwd3ts14b0swly1g_hr3h40000gn/T/filings-public-filing-af507649-b307-4b02-8d1a-196f05a197c5-print.\n",
      "2021-08-07 15:38:21,882 [MainThread  ] [INFO ]  Retrieving https://lda.senate.gov//filings/public/filing/a0e9745e-6d06-483e-b7b5-0f4f22b59988/print/ to /var/folders/l4/syqwd3ts14b0swly1g_hr3h40000gn/T/filings-public-filing-a0e9745e-6d06-483e-b7b5-0f4f22b59988-print.\n",
      "2021-08-07 15:38:22,234 [MainThread  ] [INFO ]  Retrieving https://lda.senate.gov//filings/public/filing/f40c6fd4-f713-4c2a-b9e3-89eabbf39f52/print/ to /var/folders/l4/syqwd3ts14b0swly1g_hr3h40000gn/T/filings-public-filing-f40c6fd4-f713-4c2a-b9e3-89eabbf39f52-print.\n",
      "2021-08-07 15:38:22,507 [MainThread  ] [INFO ]  Retrieving https://lda.senate.gov//filings/public/filing/ec492847-d3dc-447e-add4-dab4dba46ef6/print/ to /var/folders/l4/syqwd3ts14b0swly1g_hr3h40000gn/T/filings-public-filing-ec492847-d3dc-447e-add4-dab4dba46ef6-print.\n",
      "2021-08-07 15:38:22,844 [MainThread  ] [INFO ]  Retrieving https://lda.senate.gov//filings/public/filing/5b785e8b-b0b2-489e-9d7b-bb25f40c3ca5/print/ to /var/folders/l4/syqwd3ts14b0swly1g_hr3h40000gn/T/filings-public-filing-5b785e8b-b0b2-489e-9d7b-bb25f40c3ca5-print.\n",
      "2021-08-07 15:38:23,088 [MainThread  ] [INFO ]  Retrieving https://lda.senate.gov//filings/public/filing/9a0fd12e-a96b-418a-bcdd-8b9d5be48688/print/ to /var/folders/l4/syqwd3ts14b0swly1g_hr3h40000gn/T/filings-public-filing-9a0fd12e-a96b-418a-bcdd-8b9d5be48688-print.\n",
      "2021-08-07 15:38:23,540 [MainThread  ] [INFO ]  Retrieving https://lda.senate.gov//filings/public/filing/1183bad1-706e-41c4-b88a-b4e7fb331bf1/print/ to /var/folders/l4/syqwd3ts14b0swly1g_hr3h40000gn/T/filings-public-filing-1183bad1-706e-41c4-b88a-b4e7fb331bf1-print.\n",
      "2021-08-07 15:38:23,847 [MainThread  ] [INFO ]  Retrieving https://lda.senate.gov//filings/public/filing/ce52d180-6bf8-4496-9614-2ece333b3bfc/print/ to /var/folders/l4/syqwd3ts14b0swly1g_hr3h40000gn/T/filings-public-filing-ce52d180-6bf8-4496-9614-2ece333b3bfc-print.\n",
      "2021-08-07 15:38:24,099 [MainThread  ] [INFO ]  Retrieving https://lda.senate.gov//filings/public/filing/18ffb6dd-3c79-4252-b955-47db417cc8c1/print/ to /var/folders/l4/syqwd3ts14b0swly1g_hr3h40000gn/T/filings-public-filing-18ffb6dd-3c79-4252-b955-47db417cc8c1-print.\n",
      "2021-08-07 15:38:24,407 [MainThread  ] [INFO ]  Retrieving https://lda.senate.gov//filings/public/filing/76f755f5-3add-4dcd-a832-ce8affd62cb4/print/ to /var/folders/l4/syqwd3ts14b0swly1g_hr3h40000gn/T/filings-public-filing-76f755f5-3add-4dcd-a832-ce8affd62cb4-print.\n",
      "2021-08-07 15:38:24,845 [MainThread  ] [INFO ]  Retrieving https://lda.senate.gov//filings/public/filing/15a9b300-0910-455d-b0ed-2c58835c3959/print/ to /var/folders/l4/syqwd3ts14b0swly1g_hr3h40000gn/T/filings-public-filing-15a9b300-0910-455d-b0ed-2c58835c3959-print.\n",
      "2021-08-07 15:38:25,088 [MainThread  ] [INFO ]  Retrieving https://lda.senate.gov//filings/public/filing/4afa95fd-b3e3-443b-bde3-f4dcc76d3fb4/print/ to /var/folders/l4/syqwd3ts14b0swly1g_hr3h40000gn/T/filings-public-filing-4afa95fd-b3e3-443b-bde3-f4dcc76d3fb4-print.\n",
      "2021-08-07 15:38:25,315 [MainThread  ] [INFO ]  Retrieving https://lda.senate.gov//filings/public/filing/d6d33eed-b285-4666-8dfa-20ed2c99fabf/print/ to /var/folders/l4/syqwd3ts14b0swly1g_hr3h40000gn/T/filings-public-filing-d6d33eed-b285-4666-8dfa-20ed2c99fabf-print.\n",
      "2021-08-07 15:38:25,607 [MainThread  ] [INFO ]  Retrieving https://lda.senate.gov//filings/public/filing/e367d800-15aa-4389-af96-2ff59196d43f/print/ to /var/folders/l4/syqwd3ts14b0swly1g_hr3h40000gn/T/filings-public-filing-e367d800-15aa-4389-af96-2ff59196d43f-print.\n",
      "2021-08-07 15:38:25,897 [MainThread  ] [INFO ]  Retrieving https://lda.senate.gov//filings/public/filing/0023d775-e84d-4c5f-a75a-9427cbfbdb47/print/ to /var/folders/l4/syqwd3ts14b0swly1g_hr3h40000gn/T/filings-public-filing-0023d775-e84d-4c5f-a75a-9427cbfbdb47-print.\n",
      "2021-08-07 15:38:26,177 [MainThread  ] [INFO ]  Retrieving https://lda.senate.gov//filings/public/filing/6b1c05ce-1f5e-451b-bb1a-4e49cad87dd1/print/ to /var/folders/l4/syqwd3ts14b0swly1g_hr3h40000gn/T/filings-public-filing-6b1c05ce-1f5e-451b-bb1a-4e49cad87dd1-print.\n",
      "2021-08-07 15:38:26,683 [MainThread  ] [INFO ]  Retrieving https://lda.senate.gov//filings/public/filing/d4922577-11f3-4933-bccf-2368989df4d5/print/ to /var/folders/l4/syqwd3ts14b0swly1g_hr3h40000gn/T/filings-public-filing-d4922577-11f3-4933-bccf-2368989df4d5-print.\n",
      "2021-08-07 15:38:26,930 [MainThread  ] [INFO ]  Retrieving https://lda.senate.gov//filings/public/filing/5146beb7-6842-4c48-966b-d36ef3a78e1c/print/ to /var/folders/l4/syqwd3ts14b0swly1g_hr3h40000gn/T/filings-public-filing-5146beb7-6842-4c48-966b-d36ef3a78e1c-print.\n",
      "2021-08-07 15:38:27,208 [MainThread  ] [INFO ]  Retrieving https://lda.senate.gov//filings/public/filing/7c27b88f-f2d0-449c-9311-9477dfba99b3/print/ to /var/folders/l4/syqwd3ts14b0swly1g_hr3h40000gn/T/filings-public-filing-7c27b88f-f2d0-449c-9311-9477dfba99b3-print.\n",
      "2021-08-07 15:38:27,448 [MainThread  ] [INFO ]  Retrieving https://lda.senate.gov//filings/public/filing/06a0b6e9-9651-45e9-a7cf-9e0d46012247/print/ to /var/folders/l4/syqwd3ts14b0swly1g_hr3h40000gn/T/filings-public-filing-06a0b6e9-9651-45e9-a7cf-9e0d46012247-print.\n",
      "2021-08-07 15:38:27,909 [MainThread  ] [INFO ]  Retrieving https://lda.senate.gov//filings/public/filing/e9947ef4-1ad0-4c6e-aff4-5d4f8fb7c415/print/ to /var/folders/l4/syqwd3ts14b0swly1g_hr3h40000gn/T/filings-public-filing-e9947ef4-1ad0-4c6e-aff4-5d4f8fb7c415-print.\n",
      "2021-08-07 15:38:28,165 [MainThread  ] [INFO ]  Retrieving https://lda.senate.gov//filings/public/filing/1390adba-4945-4b83-ad7d-c8e09b0a1372/print/ to /var/folders/l4/syqwd3ts14b0swly1g_hr3h40000gn/T/filings-public-filing-1390adba-4945-4b83-ad7d-c8e09b0a1372-print.\n"
     ]
    },
    {
     "name": "stderr",
     "output_type": "stream",
     "text": [
      "2021-08-07 15:38:28,401 [MainThread  ] [INFO ]  Retrieving https://lda.senate.gov//filings/public/filing/19b20cd2-4c2f-4f41-ab05-8622779a918a/print/ to /var/folders/l4/syqwd3ts14b0swly1g_hr3h40000gn/T/filings-public-filing-19b20cd2-4c2f-4f41-ab05-8622779a918a-print.\n",
      "2021-08-07 15:38:28,643 [MainThread  ] [INFO ]  Retrieving https://lda.senate.gov//filings/public/filing/9f11cfa2-ea4b-422a-a026-51b0f14e883b/print/ to /var/folders/l4/syqwd3ts14b0swly1g_hr3h40000gn/T/filings-public-filing-9f11cfa2-ea4b-422a-a026-51b0f14e883b-print.\n",
      "2021-08-07 15:38:29,089 [MainThread  ] [INFO ]  Retrieving https://lda.senate.gov//filings/public/filing/bee30eb0-bf20-47cd-b00d-f5f2a9d10aa6/print/ to /var/folders/l4/syqwd3ts14b0swly1g_hr3h40000gn/T/filings-public-filing-bee30eb0-bf20-47cd-b00d-f5f2a9d10aa6-print.\n",
      "2021-08-07 15:38:29,370 [MainThread  ] [INFO ]  Retrieving https://lda.senate.gov//filings/public/filing/3e77cac4-4b25-4ede-84d7-80304f7cb24d/print/ to /var/folders/l4/syqwd3ts14b0swly1g_hr3h40000gn/T/filings-public-filing-3e77cac4-4b25-4ede-84d7-80304f7cb24d-print.\n",
      "2021-08-07 15:38:29,615 [MainThread  ] [INFO ]  Retrieving https://lda.senate.gov//filings/public/filing/96788519-34a8-4b4b-912b-27408d2ff17e/print/ to /var/folders/l4/syqwd3ts14b0swly1g_hr3h40000gn/T/filings-public-filing-96788519-34a8-4b4b-912b-27408d2ff17e-print.\n",
      "2021-08-07 15:38:29,851 [MainThread  ] [INFO ]  Retrieving https://lda.senate.gov//filings/public/filing/efbf4d88-7af2-4bca-8baa-ebbfdf443df8/print/ to /var/folders/l4/syqwd3ts14b0swly1g_hr3h40000gn/T/filings-public-filing-efbf4d88-7af2-4bca-8baa-ebbfdf443df8-print.\n",
      "2021-08-07 15:38:30,093 [MainThread  ] [INFO ]  Retrieving https://lda.senate.gov//filings/public/filing/f74f3abf-2105-4f17-9a42-ba47507e98d2/print/ to /var/folders/l4/syqwd3ts14b0swly1g_hr3h40000gn/T/filings-public-filing-f74f3abf-2105-4f17-9a42-ba47507e98d2-print.\n",
      "2021-08-07 15:38:30,356 [MainThread  ] [INFO ]  Retrieving https://lda.senate.gov//filings/public/filing/944daa58-c785-42db-b654-dc40d8435829/print/ to /var/folders/l4/syqwd3ts14b0swly1g_hr3h40000gn/T/filings-public-filing-944daa58-c785-42db-b654-dc40d8435829-print.\n",
      "2021-08-07 15:38:30,585 [MainThread  ] [INFO ]  Retrieving https://lda.senate.gov//filings/public/filing/4b177110-2391-49d9-9e4b-3c640da81428/print/ to /var/folders/l4/syqwd3ts14b0swly1g_hr3h40000gn/T/filings-public-filing-4b177110-2391-49d9-9e4b-3c640da81428-print.\n",
      "2021-08-07 15:38:30,884 [MainThread  ] [INFO ]  Retrieving https://lda.senate.gov//filings/public/filing/dd9aefda-d130-46cb-bcae-6432d5e694e9/print/ to /var/folders/l4/syqwd3ts14b0swly1g_hr3h40000gn/T/filings-public-filing-dd9aefda-d130-46cb-bcae-6432d5e694e9-print.\n",
      "2021-08-07 15:38:31,126 [MainThread  ] [INFO ]  Retrieving https://lda.senate.gov//filings/public/filing/43cc4f26-50d9-48f3-9aa5-01259417598c/print/ to /var/folders/l4/syqwd3ts14b0swly1g_hr3h40000gn/T/filings-public-filing-43cc4f26-50d9-48f3-9aa5-01259417598c-print.\n",
      "2021-08-07 15:38:31,456 [MainThread  ] [INFO ]  Retrieving https://lda.senate.gov//filings/public/filing/8a8b7cad-6a1e-4732-b4cc-a2eeac6024a1/print/ to /var/folders/l4/syqwd3ts14b0swly1g_hr3h40000gn/T/filings-public-filing-8a8b7cad-6a1e-4732-b4cc-a2eeac6024a1-print.\n",
      "2021-08-07 15:38:31,680 [MainThread  ] [INFO ]  Retrieving https://lda.senate.gov//filings/public/filing/dc652488-342c-4ed5-aa4d-09f04f9dfafd/print/ to /var/folders/l4/syqwd3ts14b0swly1g_hr3h40000gn/T/filings-public-filing-dc652488-342c-4ed5-aa4d-09f04f9dfafd-print.\n",
      "2021-08-07 15:38:31,936 [MainThread  ] [INFO ]  Retrieving https://lda.senate.gov//filings/public/filing/51104a5c-d4c7-474f-80cb-ebd5ee4b7358/print/ to /var/folders/l4/syqwd3ts14b0swly1g_hr3h40000gn/T/filings-public-filing-51104a5c-d4c7-474f-80cb-ebd5ee4b7358-print.\n",
      "2021-08-07 15:38:32,150 [MainThread  ] [INFO ]  Retrieving https://lda.senate.gov//filings/public/filing/c9bcb5c6-e1f3-4942-b59f-518c55953581/print/ to /var/folders/l4/syqwd3ts14b0swly1g_hr3h40000gn/T/filings-public-filing-c9bcb5c6-e1f3-4942-b59f-518c55953581-print.\n"
     ]
    }
   ],
   "source": [
    "facebook_text = []\n",
    "\n",
    "for pdf in df_bigtech['facebook_link']:\n",
    "    try:\n",
    "        parsed = parser.from_file(pdf)\n",
    "        text = parsed['content'].strip().replace('\\n',' ').replace('\\t', ' ').replace(u'\\u200b', ' ') \n",
    "    except:\n",
    "        text = 'no PDF'\n",
    "    facebook_text.append(text)"
   ]
  },
  {
   "cell_type": "code",
   "execution_count": 8,
   "id": "bcefc659",
   "metadata": {},
   "outputs": [],
   "source": [
    "df_bigtech['facebook_text'] = facebook_text"
   ]
  },
  {
   "cell_type": "code",
   "execution_count": 9,
   "id": "22f40b32",
   "metadata": {},
   "outputs": [
    {
     "name": "stderr",
     "output_type": "stream",
     "text": [
      "2021-08-07 15:38:43,902 [MainThread  ] [INFO ]  Retrieving https://lda.senate.gov//filings/public/filing/bf977a89-15c2-41f5-b59d-7e7a6e17b210/print/ to /var/folders/l4/syqwd3ts14b0swly1g_hr3h40000gn/T/filings-public-filing-bf977a89-15c2-41f5-b59d-7e7a6e17b210-print.\n",
      "2021-08-07 15:38:44,199 [MainThread  ] [INFO ]  Retrieving https://lda.senate.gov//filings/public/filing/047f925e-aa0c-46fa-95aa-f78c29b4f5ee/print/ to /var/folders/l4/syqwd3ts14b0swly1g_hr3h40000gn/T/filings-public-filing-047f925e-aa0c-46fa-95aa-f78c29b4f5ee-print.\n",
      "2021-08-07 15:38:44,808 [MainThread  ] [INFO ]  Retrieving https://lda.senate.gov//filings/public/filing/65749c45-3697-492e-8430-520cfa2fd6ad/print/ to /var/folders/l4/syqwd3ts14b0swly1g_hr3h40000gn/T/filings-public-filing-65749c45-3697-492e-8430-520cfa2fd6ad-print.\n",
      "2021-08-07 15:38:45,116 [MainThread  ] [INFO ]  Retrieving https://lda.senate.gov//filings/public/filing/40df1c3a-c0d4-42cd-898a-e4ff6dac3eab/print/ to /var/folders/l4/syqwd3ts14b0swly1g_hr3h40000gn/T/filings-public-filing-40df1c3a-c0d4-42cd-898a-e4ff6dac3eab-print.\n",
      "2021-08-07 15:38:45,458 [MainThread  ] [INFO ]  Retrieving https://lda.senate.gov//filings/public/filing/5756a20c-4639-49e2-9165-f0667b361579/print/ to /var/folders/l4/syqwd3ts14b0swly1g_hr3h40000gn/T/filings-public-filing-5756a20c-4639-49e2-9165-f0667b361579-print.\n",
      "2021-08-07 15:38:45,978 [MainThread  ] [INFO ]  Retrieving https://lda.senate.gov//filings/public/filing/c240fbf5-2122-417f-bffd-a23c3bcd6089/print/ to /var/folders/l4/syqwd3ts14b0swly1g_hr3h40000gn/T/filings-public-filing-c240fbf5-2122-417f-bffd-a23c3bcd6089-print.\n",
      "2021-08-07 15:38:46,231 [MainThread  ] [INFO ]  Retrieving https://lda.senate.gov//filings/public/filing/bff68596-4897-4059-8c4a-0d6f2c2f32c3/print/ to /var/folders/l4/syqwd3ts14b0swly1g_hr3h40000gn/T/filings-public-filing-bff68596-4897-4059-8c4a-0d6f2c2f32c3-print.\n",
      "2021-08-07 15:38:46,533 [MainThread  ] [INFO ]  Retrieving https://lda.senate.gov//filings/public/filing/42881a03-713b-4652-aafb-b556c9b55300/print/ to /var/folders/l4/syqwd3ts14b0swly1g_hr3h40000gn/T/filings-public-filing-42881a03-713b-4652-aafb-b556c9b55300-print.\n",
      "2021-08-07 15:38:46,908 [MainThread  ] [INFO ]  Retrieving https://lda.senate.gov//filings/public/filing/65fbb30e-d962-4675-b879-4ce1e3329d85/print/ to /var/folders/l4/syqwd3ts14b0swly1g_hr3h40000gn/T/filings-public-filing-65fbb30e-d962-4675-b879-4ce1e3329d85-print.\n",
      "2021-08-07 15:38:47,194 [MainThread  ] [INFO ]  Retrieving https://lda.senate.gov//filings/public/filing/13f92882-f4e7-45b5-9f9f-40ef9d87a993/print/ to /var/folders/l4/syqwd3ts14b0swly1g_hr3h40000gn/T/filings-public-filing-13f92882-f4e7-45b5-9f9f-40ef9d87a993-print.\n",
      "2021-08-07 15:38:47,463 [MainThread  ] [INFO ]  Retrieving https://lda.senate.gov//filings/public/filing/a06c6f99-ae17-41f8-89f0-c3a71829fae6/print/ to /var/folders/l4/syqwd3ts14b0swly1g_hr3h40000gn/T/filings-public-filing-a06c6f99-ae17-41f8-89f0-c3a71829fae6-print.\n",
      "2021-08-07 15:38:47,742 [MainThread  ] [INFO ]  Retrieving https://lda.senate.gov//filings/public/filing/eb56d39d-a667-45f2-b1d4-3f155ed7f10f/print/ to /var/folders/l4/syqwd3ts14b0swly1g_hr3h40000gn/T/filings-public-filing-eb56d39d-a667-45f2-b1d4-3f155ed7f10f-print.\n",
      "2021-08-07 15:38:48,062 [MainThread  ] [INFO ]  Retrieving https://lda.senate.gov//filings/public/filing/2ee51c0a-e53c-4dbe-981f-5fcc60bfa800/print/ to /var/folders/l4/syqwd3ts14b0swly1g_hr3h40000gn/T/filings-public-filing-2ee51c0a-e53c-4dbe-981f-5fcc60bfa800-print.\n",
      "2021-08-07 15:38:48,319 [MainThread  ] [INFO ]  Retrieving https://lda.senate.gov//filings/public/filing/f0996706-c49e-44ed-bd85-1dc4d3ce2e7b/print/ to /var/folders/l4/syqwd3ts14b0swly1g_hr3h40000gn/T/filings-public-filing-f0996706-c49e-44ed-bd85-1dc4d3ce2e7b-print.\n",
      "2021-08-07 15:38:48,626 [MainThread  ] [INFO ]  Retrieving https://lda.senate.gov//filings/public/filing/dbf023e3-e1d3-416e-93ab-2a35277ffe09/print/ to /var/folders/l4/syqwd3ts14b0swly1g_hr3h40000gn/T/filings-public-filing-dbf023e3-e1d3-416e-93ab-2a35277ffe09-print.\n",
      "2021-08-07 15:38:48,932 [MainThread  ] [INFO ]  Retrieving https://lda.senate.gov//filings/public/filing/5c7b115e-183a-4402-adb2-82ed87a01f7f/print/ to /var/folders/l4/syqwd3ts14b0swly1g_hr3h40000gn/T/filings-public-filing-5c7b115e-183a-4402-adb2-82ed87a01f7f-print.\n",
      "2021-08-07 15:38:49,258 [MainThread  ] [INFO ]  Retrieving https://lda.senate.gov//filings/public/filing/8cf63bdb-f5a6-4547-8a3b-3e24714dc8ff/print/ to /var/folders/l4/syqwd3ts14b0swly1g_hr3h40000gn/T/filings-public-filing-8cf63bdb-f5a6-4547-8a3b-3e24714dc8ff-print.\n",
      "2021-08-07 15:38:49,569 [MainThread  ] [INFO ]  Retrieving https://lda.senate.gov//filings/public/filing/310c44d8-8065-49e8-8489-a66d233a0ee5/print/ to /var/folders/l4/syqwd3ts14b0swly1g_hr3h40000gn/T/filings-public-filing-310c44d8-8065-49e8-8489-a66d233a0ee5-print.\n",
      "2021-08-07 15:38:50,247 [MainThread  ] [INFO ]  Retrieving https://lda.senate.gov//filings/public/filing/b903c8cd-ab0f-4a60-bee8-5cfc8bf6affd/print/ to /var/folders/l4/syqwd3ts14b0swly1g_hr3h40000gn/T/filings-public-filing-b903c8cd-ab0f-4a60-bee8-5cfc8bf6affd-print.\n",
      "2021-08-07 15:38:50,580 [MainThread  ] [INFO ]  Retrieving https://lda.senate.gov//filings/public/filing/7ef0916d-a6db-483d-ac41-6df0ee0e0898/print/ to /var/folders/l4/syqwd3ts14b0swly1g_hr3h40000gn/T/filings-public-filing-7ef0916d-a6db-483d-ac41-6df0ee0e0898-print.\n",
      "2021-08-07 15:38:50,865 [MainThread  ] [INFO ]  Retrieving https://lda.senate.gov//filings/public/filing/04b49514-f9d0-4146-90db-d41611dfe15b/print/ to /var/folders/l4/syqwd3ts14b0swly1g_hr3h40000gn/T/filings-public-filing-04b49514-f9d0-4146-90db-d41611dfe15b-print.\n",
      "2021-08-07 15:38:51,124 [MainThread  ] [INFO ]  Retrieving https://lda.senate.gov//filings/public/filing/5a12bb4d-9618-409f-8756-659a80b1ca70/print/ to /var/folders/l4/syqwd3ts14b0swly1g_hr3h40000gn/T/filings-public-filing-5a12bb4d-9618-409f-8756-659a80b1ca70-print.\n",
      "2021-08-07 15:38:51,384 [MainThread  ] [INFO ]  Retrieving https://lda.senate.gov//filings/public/filing/56b1a359-d67f-4792-91c6-298bbb2fa8de/print/ to /var/folders/l4/syqwd3ts14b0swly1g_hr3h40000gn/T/filings-public-filing-56b1a359-d67f-4792-91c6-298bbb2fa8de-print.\n",
      "2021-08-07 15:38:52,314 [MainThread  ] [INFO ]  Retrieving https://lda.senate.gov//filings/public/filing/e2771979-7c62-400a-b2c2-f62e68ac2772/print/ to /var/folders/l4/syqwd3ts14b0swly1g_hr3h40000gn/T/filings-public-filing-e2771979-7c62-400a-b2c2-f62e68ac2772-print.\n",
      "2021-08-07 15:38:52,609 [MainThread  ] [INFO ]  Retrieving https://lda.senate.gov//filings/public/filing/06a99360-1da5-43c8-b30e-0b2bcb91082b/print/ to /var/folders/l4/syqwd3ts14b0swly1g_hr3h40000gn/T/filings-public-filing-06a99360-1da5-43c8-b30e-0b2bcb91082b-print.\n",
      "2021-08-07 15:38:52,917 [MainThread  ] [INFO ]  Retrieving https://lda.senate.gov//filings/public/filing/c39d04e4-bf51-4b03-92d5-184fe2312dbe/print/ to /var/folders/l4/syqwd3ts14b0swly1g_hr3h40000gn/T/filings-public-filing-c39d04e4-bf51-4b03-92d5-184fe2312dbe-print.\n",
      "2021-08-07 15:38:53,304 [MainThread  ] [INFO ]  Retrieving https://lda.senate.gov//filings/public/filing/33d2a369-a146-41b4-bfe9-36b60c0f6512/print/ to /var/folders/l4/syqwd3ts14b0swly1g_hr3h40000gn/T/filings-public-filing-33d2a369-a146-41b4-bfe9-36b60c0f6512-print.\n",
      "2021-08-07 15:38:53,641 [MainThread  ] [INFO ]  Retrieving https://lda.senate.gov//filings/public/filing/82763eb2-6a98-4ae3-b7dd-39c4a16f7a5f/print/ to /var/folders/l4/syqwd3ts14b0swly1g_hr3h40000gn/T/filings-public-filing-82763eb2-6a98-4ae3-b7dd-39c4a16f7a5f-print.\n",
      "2021-08-07 15:38:54,091 [MainThread  ] [INFO ]  Retrieving https://lda.senate.gov//filings/public/filing/1a0e35ce-e814-4642-a48b-0445555af330/print/ to /var/folders/l4/syqwd3ts14b0swly1g_hr3h40000gn/T/filings-public-filing-1a0e35ce-e814-4642-a48b-0445555af330-print.\n",
      "2021-08-07 15:38:54,421 [MainThread  ] [INFO ]  Retrieving https://lda.senate.gov//filings/public/filing/cf5f1b0b-f8b5-4bf7-a1e5-5c13b166b19b/print/ to /var/folders/l4/syqwd3ts14b0swly1g_hr3h40000gn/T/filings-public-filing-cf5f1b0b-f8b5-4bf7-a1e5-5c13b166b19b-print.\n",
      "2021-08-07 15:38:54,696 [MainThread  ] [INFO ]  Retrieving https://lda.senate.gov//filings/public/filing/8c0b78d6-f646-4b03-8901-05fae0adfbdf/print/ to /var/folders/l4/syqwd3ts14b0swly1g_hr3h40000gn/T/filings-public-filing-8c0b78d6-f646-4b03-8901-05fae0adfbdf-print.\n"
     ]
    },
    {
     "name": "stderr",
     "output_type": "stream",
     "text": [
      "2021-08-07 15:38:55,211 [MainThread  ] [INFO ]  Retrieving https://lda.senate.gov//filings/public/filing/a36c2662-c1c5-47c9-816b-718c90ebb300/print/ to /var/folders/l4/syqwd3ts14b0swly1g_hr3h40000gn/T/filings-public-filing-a36c2662-c1c5-47c9-816b-718c90ebb300-print.\n",
      "2021-08-07 15:38:55,621 [MainThread  ] [INFO ]  Retrieving https://lda.senate.gov//filings/public/filing/999c7d0c-8eb1-44c9-993f-a3cf969d90e8/print/ to /var/folders/l4/syqwd3ts14b0swly1g_hr3h40000gn/T/filings-public-filing-999c7d0c-8eb1-44c9-993f-a3cf969d90e8-print.\n",
      "2021-08-07 15:38:55,912 [MainThread  ] [INFO ]  Retrieving https://lda.senate.gov//filings/public/filing/4cb55b30-1f79-4ea9-961b-985b73b6917e/print/ to /var/folders/l4/syqwd3ts14b0swly1g_hr3h40000gn/T/filings-public-filing-4cb55b30-1f79-4ea9-961b-985b73b6917e-print.\n",
      "2021-08-07 15:38:56,222 [MainThread  ] [INFO ]  Retrieving https://lda.senate.gov//filings/public/filing/5e1012c0-6d42-4bb7-b363-f8649ba4edda/print/ to /var/folders/l4/syqwd3ts14b0swly1g_hr3h40000gn/T/filings-public-filing-5e1012c0-6d42-4bb7-b363-f8649ba4edda-print.\n",
      "2021-08-07 15:38:56,552 [MainThread  ] [INFO ]  Retrieving https://lda.senate.gov//filings/public/filing/647a167d-a45e-4ee6-8aae-5056be3f9230/print/ to /var/folders/l4/syqwd3ts14b0swly1g_hr3h40000gn/T/filings-public-filing-647a167d-a45e-4ee6-8aae-5056be3f9230-print.\n",
      "2021-08-07 15:38:56,857 [MainThread  ] [INFO ]  Retrieving https://lda.senate.gov//filings/public/filing/14bfe059-f4a8-40de-9901-56977f90eff9/print/ to /var/folders/l4/syqwd3ts14b0swly1g_hr3h40000gn/T/filings-public-filing-14bfe059-f4a8-40de-9901-56977f90eff9-print.\n",
      "2021-08-07 15:38:57,123 [MainThread  ] [INFO ]  Retrieving https://lda.senate.gov//filings/public/filing/a069c7ca-47b7-41db-9d98-254c9629ca50/print/ to /var/folders/l4/syqwd3ts14b0swly1g_hr3h40000gn/T/filings-public-filing-a069c7ca-47b7-41db-9d98-254c9629ca50-print.\n",
      "2021-08-07 15:38:57,416 [MainThread  ] [INFO ]  Retrieving https://lda.senate.gov//filings/public/filing/1d5a9784-2190-4b48-8bf9-3bb6b8bc0b73/print/ to /var/folders/l4/syqwd3ts14b0swly1g_hr3h40000gn/T/filings-public-filing-1d5a9784-2190-4b48-8bf9-3bb6b8bc0b73-print.\n",
      "2021-08-07 15:38:57,693 [MainThread  ] [INFO ]  Retrieving https://lda.senate.gov//filings/public/filing/f7649bb1-9d70-442d-b333-3665370899db/print/ to /var/folders/l4/syqwd3ts14b0swly1g_hr3h40000gn/T/filings-public-filing-f7649bb1-9d70-442d-b333-3665370899db-print.\n",
      "2021-08-07 15:38:58,052 [MainThread  ] [INFO ]  Retrieving https://lda.senate.gov//filings/public/filing/ab033ebf-eb49-4f1c-a14a-66010f8d2e86/print/ to /var/folders/l4/syqwd3ts14b0swly1g_hr3h40000gn/T/filings-public-filing-ab033ebf-eb49-4f1c-a14a-66010f8d2e86-print.\n",
      "2021-08-07 15:38:58,372 [MainThread  ] [INFO ]  Retrieving https://lda.senate.gov//filings/public/filing/8fface84-4d67-4f06-9524-4ff93215da37/print/ to /var/folders/l4/syqwd3ts14b0swly1g_hr3h40000gn/T/filings-public-filing-8fface84-4d67-4f06-9524-4ff93215da37-print.\n",
      "2021-08-07 15:38:58,645 [MainThread  ] [INFO ]  Retrieving https://lda.senate.gov//filings/public/filing/594db5b8-7c0e-476f-ac4c-60e1f1581912/print/ to /var/folders/l4/syqwd3ts14b0swly1g_hr3h40000gn/T/filings-public-filing-594db5b8-7c0e-476f-ac4c-60e1f1581912-print.\n",
      "2021-08-07 15:38:58,954 [MainThread  ] [INFO ]  Retrieving https://lda.senate.gov//filings/public/filing/2338d134-68dc-4a5f-8d24-df6b46ee150e/print/ to /var/folders/l4/syqwd3ts14b0swly1g_hr3h40000gn/T/filings-public-filing-2338d134-68dc-4a5f-8d24-df6b46ee150e-print.\n",
      "2021-08-07 15:38:59,237 [MainThread  ] [INFO ]  Retrieving https://lda.senate.gov//filings/public/filing/9016e68e-d49f-4731-bf33-9747f2b5ce7d/print/ to /var/folders/l4/syqwd3ts14b0swly1g_hr3h40000gn/T/filings-public-filing-9016e68e-d49f-4731-bf33-9747f2b5ce7d-print.\n",
      "2021-08-07 15:38:59,607 [MainThread  ] [INFO ]  Retrieving https://lda.senate.gov//filings/public/filing/e7885151-831b-4ceb-a80c-60f47e3e0702/print/ to /var/folders/l4/syqwd3ts14b0swly1g_hr3h40000gn/T/filings-public-filing-e7885151-831b-4ceb-a80c-60f47e3e0702-print.\n"
     ]
    }
   ],
   "source": [
    "google_text = []\n",
    "\n",
    "for pdf in df_bigtech['google_link']:\n",
    "    try:\n",
    "        parsed = parser.from_file(pdf)\n",
    "        text = parsed['content'].strip().replace('\\n',' ').replace('\\t', ' ').replace(u'\\u200b', ' ') \n",
    "    except:\n",
    "        text = 'no PDF'\n",
    "    google_text.append(text)"
   ]
  },
  {
   "cell_type": "code",
   "execution_count": 10,
   "id": "6b037fc8",
   "metadata": {},
   "outputs": [],
   "source": [
    "df_bigtech['google_text'] = google_text"
   ]
  },
  {
   "cell_type": "code",
   "execution_count": 11,
   "id": "681e6928",
   "metadata": {},
   "outputs": [
    {
     "name": "stderr",
     "output_type": "stream",
     "text": [
      "2021-08-07 15:39:30,601 [MainThread  ] [INFO ]  Retrieving https://lda.senate.gov//filings/public/filing/008a3286-d6d5-4601-afe3-f4c4361785fc/print/ to /var/folders/l4/syqwd3ts14b0swly1g_hr3h40000gn/T/filings-public-filing-008a3286-d6d5-4601-afe3-f4c4361785fc-print.\n",
      "2021-08-07 15:39:31,183 [MainThread  ] [INFO ]  Retrieving https://lda.senate.gov//filings/public/filing/931b23da-8021-4f33-8f4b-70e571dba9b8/print/ to /var/folders/l4/syqwd3ts14b0swly1g_hr3h40000gn/T/filings-public-filing-931b23da-8021-4f33-8f4b-70e571dba9b8-print.\n",
      "2021-08-07 15:39:38,282 [MainThread  ] [INFO ]  Retrieving https://lda.senate.gov//filings/public/filing/cad6db2f-c3ca-4b9d-bc24-4c56fc7eaadb/print/ to /var/folders/l4/syqwd3ts14b0swly1g_hr3h40000gn/T/filings-public-filing-cad6db2f-c3ca-4b9d-bc24-4c56fc7eaadb-print.\n",
      "2021-08-07 15:39:38,604 [MainThread  ] [INFO ]  Retrieving https://lda.senate.gov//filings/public/filing/ca972322-9352-425e-be3f-ba820f6fc1f7/print/ to /var/folders/l4/syqwd3ts14b0swly1g_hr3h40000gn/T/filings-public-filing-ca972322-9352-425e-be3f-ba820f6fc1f7-print.\n",
      "2021-08-07 15:39:39,451 [MainThread  ] [INFO ]  Retrieving https://lda.senate.gov//filings/public/filing/eeb911a4-7ef2-4cab-aa6c-d28cb3bebb9e/print/ to /var/folders/l4/syqwd3ts14b0swly1g_hr3h40000gn/T/filings-public-filing-eeb911a4-7ef2-4cab-aa6c-d28cb3bebb9e-print.\n",
      "2021-08-07 15:39:39,718 [MainThread  ] [INFO ]  Retrieving https://lda.senate.gov//filings/public/filing/fed6cf52-7b65-4485-a59f-c8fa4ce3dcb0/print/ to /var/folders/l4/syqwd3ts14b0swly1g_hr3h40000gn/T/filings-public-filing-fed6cf52-7b65-4485-a59f-c8fa4ce3dcb0-print.\n",
      "2021-08-07 15:39:40,277 [MainThread  ] [INFO ]  Retrieving https://lda.senate.gov//filings/public/filing/170f74d5-0d12-4912-8d40-5fff4866e3ff/print/ to /var/folders/l4/syqwd3ts14b0swly1g_hr3h40000gn/T/filings-public-filing-170f74d5-0d12-4912-8d40-5fff4866e3ff-print.\n",
      "2021-08-07 15:39:41,419 [MainThread  ] [INFO ]  Retrieving https://lda.senate.gov//filings/public/filing/bf01e747-610a-404d-83e1-b194af974855/print/ to /var/folders/l4/syqwd3ts14b0swly1g_hr3h40000gn/T/filings-public-filing-bf01e747-610a-404d-83e1-b194af974855-print.\n",
      "2021-08-07 15:39:41,959 [MainThread  ] [INFO ]  Retrieving https://lda.senate.gov//filings/public/filing/61936668-c2b7-4b4e-a0a5-407ef8ed580e/print/ to /var/folders/l4/syqwd3ts14b0swly1g_hr3h40000gn/T/filings-public-filing-61936668-c2b7-4b4e-a0a5-407ef8ed580e-print.\n",
      "2021-08-07 15:39:42,253 [MainThread  ] [INFO ]  Retrieving https://lda.senate.gov//filings/public/filing/da4cfcaa-1beb-46f8-a334-35aee8227bbf/print/ to /var/folders/l4/syqwd3ts14b0swly1g_hr3h40000gn/T/filings-public-filing-da4cfcaa-1beb-46f8-a334-35aee8227bbf-print.\n",
      "2021-08-07 15:39:42,779 [MainThread  ] [INFO ]  Retrieving https://lda.senate.gov//filings/public/filing/87ced0cd-9e75-459c-81b2-1bedec824d60/print/ to /var/folders/l4/syqwd3ts14b0swly1g_hr3h40000gn/T/filings-public-filing-87ced0cd-9e75-459c-81b2-1bedec824d60-print.\n",
      "2021-08-07 15:39:44,041 [MainThread  ] [INFO ]  Retrieving https://lda.senate.gov//filings/public/filing/1e574e75-c3e3-4963-8a4c-dd85350afc60/print/ to /var/folders/l4/syqwd3ts14b0swly1g_hr3h40000gn/T/filings-public-filing-1e574e75-c3e3-4963-8a4c-dd85350afc60-print.\n",
      "2021-08-07 15:39:46,710 [MainThread  ] [INFO ]  Retrieving https://lda.senate.gov//filings/public/filing/f3fe30d2-86ab-4ddc-bdba-55cc952f959e/print/ to /var/folders/l4/syqwd3ts14b0swly1g_hr3h40000gn/T/filings-public-filing-f3fe30d2-86ab-4ddc-bdba-55cc952f959e-print.\n",
      "2021-08-07 15:39:47,344 [MainThread  ] [INFO ]  Retrieving https://lda.senate.gov//filings/public/filing/dc4ecbfc-b71a-4e6a-a4b8-bfd72e7772bc/print/ to /var/folders/l4/syqwd3ts14b0swly1g_hr3h40000gn/T/filings-public-filing-dc4ecbfc-b71a-4e6a-a4b8-bfd72e7772bc-print.\n",
      "2021-08-07 15:39:52,055 [MainThread  ] [INFO ]  Retrieving https://lda.senate.gov//filings/public/filing/788a33a5-5d18-43a1-bf9c-fc49d845b0ee/print/ to /var/folders/l4/syqwd3ts14b0swly1g_hr3h40000gn/T/filings-public-filing-788a33a5-5d18-43a1-bf9c-fc49d845b0ee-print.\n",
      "2021-08-07 15:39:52,998 [MainThread  ] [INFO ]  Retrieving https://lda.senate.gov//filings/public/filing/95a9c9be-9c2a-4c22-ab70-300083f748b3/print/ to /var/folders/l4/syqwd3ts14b0swly1g_hr3h40000gn/T/filings-public-filing-95a9c9be-9c2a-4c22-ab70-300083f748b3-print.\n",
      "2021-08-07 15:39:53,344 [MainThread  ] [INFO ]  Retrieving https://lda.senate.gov//filings/public/filing/db8c8b00-fba2-4dbc-90bd-c31764606b79/print/ to /var/folders/l4/syqwd3ts14b0swly1g_hr3h40000gn/T/filings-public-filing-db8c8b00-fba2-4dbc-90bd-c31764606b79-print.\n",
      "2021-08-07 15:39:54,237 [MainThread  ] [INFO ]  Retrieving https://lda.senate.gov//filings/public/filing/12c6b640-1f99-4441-ae65-2f8178caf922/print/ to /var/folders/l4/syqwd3ts14b0swly1g_hr3h40000gn/T/filings-public-filing-12c6b640-1f99-4441-ae65-2f8178caf922-print.\n",
      "2021-08-07 15:39:54,623 [MainThread  ] [INFO ]  Retrieving https://lda.senate.gov//filings/public/filing/47c0c80c-4760-4a2a-ab2c-a6ed5c6a9173/print/ to /var/folders/l4/syqwd3ts14b0swly1g_hr3h40000gn/T/filings-public-filing-47c0c80c-4760-4a2a-ab2c-a6ed5c6a9173-print.\n",
      "2021-08-07 15:39:55,347 [MainThread  ] [INFO ]  Retrieving https://lda.senate.gov//filings/public/filing/f8c62b5b-80bd-43ec-8396-61bd963b83e2/print/ to /var/folders/l4/syqwd3ts14b0swly1g_hr3h40000gn/T/filings-public-filing-f8c62b5b-80bd-43ec-8396-61bd963b83e2-print.\n",
      "2021-08-07 15:39:56,124 [MainThread  ] [INFO ]  Retrieving https://lda.senate.gov//filings/public/filing/942aa6a0-9ee4-4f80-aba0-fc8902697048/print/ to /var/folders/l4/syqwd3ts14b0swly1g_hr3h40000gn/T/filings-public-filing-942aa6a0-9ee4-4f80-aba0-fc8902697048-print.\n",
      "2021-08-07 15:39:58,509 [MainThread  ] [INFO ]  Retrieving https://lda.senate.gov//filings/public/filing/78c8704b-1c29-4ece-9df5-eac747ba6cdf/print/ to /var/folders/l4/syqwd3ts14b0swly1g_hr3h40000gn/T/filings-public-filing-78c8704b-1c29-4ece-9df5-eac747ba6cdf-print.\n",
      "2021-08-07 15:40:04,631 [MainThread  ] [INFO ]  Retrieving https://lda.senate.gov//filings/public/filing/371ca7f6-0d18-4ded-93db-a31765a4457a/print/ to /var/folders/l4/syqwd3ts14b0swly1g_hr3h40000gn/T/filings-public-filing-371ca7f6-0d18-4ded-93db-a31765a4457a-print.\n",
      "2021-08-07 15:40:05,029 [MainThread  ] [INFO ]  Retrieving https://lda.senate.gov//filings/public/filing/7e95da17-0e67-4713-b72a-5fbfd8191ff8/print/ to /var/folders/l4/syqwd3ts14b0swly1g_hr3h40000gn/T/filings-public-filing-7e95da17-0e67-4713-b72a-5fbfd8191ff8-print.\n",
      "2021-08-07 15:40:05,663 [MainThread  ] [INFO ]  Retrieving https://lda.senate.gov//filings/public/filing/4be6794a-9260-431a-b1b4-099f0dc15399/print/ to /var/folders/l4/syqwd3ts14b0swly1g_hr3h40000gn/T/filings-public-filing-4be6794a-9260-431a-b1b4-099f0dc15399-print.\n",
      "2021-08-07 15:40:06,004 [MainThread  ] [INFO ]  Retrieving https://lda.senate.gov//filings/public/filing/5b29be07-d197-4717-8fc6-ace75334b80d/print/ to /var/folders/l4/syqwd3ts14b0swly1g_hr3h40000gn/T/filings-public-filing-5b29be07-d197-4717-8fc6-ace75334b80d-print.\n",
      "2021-08-07 15:40:06,349 [MainThread  ] [INFO ]  Retrieving https://lda.senate.gov//filings/public/filing/e8908801-3837-4b83-9c96-fa19dcb571fc/print/ to /var/folders/l4/syqwd3ts14b0swly1g_hr3h40000gn/T/filings-public-filing-e8908801-3837-4b83-9c96-fa19dcb571fc-print.\n",
      "2021-08-07 15:40:06,596 [MainThread  ] [INFO ]  Retrieving https://lda.senate.gov//filings/public/filing/03721bfe-d622-4764-8354-0681f7df8d4d/print/ to /var/folders/l4/syqwd3ts14b0swly1g_hr3h40000gn/T/filings-public-filing-03721bfe-d622-4764-8354-0681f7df8d4d-print.\n",
      "2021-08-07 15:40:07,491 [MainThread  ] [INFO ]  Retrieving https://lda.senate.gov//filings/public/filing/5bd07e49-ce66-447d-aa3a-d9473d16dd8b/print/ to /var/folders/l4/syqwd3ts14b0swly1g_hr3h40000gn/T/filings-public-filing-5bd07e49-ce66-447d-aa3a-d9473d16dd8b-print.\n",
      "2021-08-07 15:40:08,396 [MainThread  ] [INFO ]  Retrieving https://lda.senate.gov//filings/public/filing/2471c297-e757-457a-bedd-5275b9551938/print/ to /var/folders/l4/syqwd3ts14b0swly1g_hr3h40000gn/T/filings-public-filing-2471c297-e757-457a-bedd-5275b9551938-print.\n",
      "2021-08-07 15:40:08,934 [MainThread  ] [INFO ]  Retrieving https://lda.senate.gov//filings/public/filing/e961c1cd-e1f6-434c-9cdc-d7098b604d46/print/ to /var/folders/l4/syqwd3ts14b0swly1g_hr3h40000gn/T/filings-public-filing-e961c1cd-e1f6-434c-9cdc-d7098b604d46-print.\n"
     ]
    },
    {
     "name": "stderr",
     "output_type": "stream",
     "text": [
      "2021-08-07 15:40:09,504 [MainThread  ] [INFO ]  Retrieving https://lda.senate.gov//filings/public/filing/0196269c-0c21-49ea-aa65-ee078bfa1f1b/print/ to /var/folders/l4/syqwd3ts14b0swly1g_hr3h40000gn/T/filings-public-filing-0196269c-0c21-49ea-aa65-ee078bfa1f1b-print.\n",
      "2021-08-07 15:40:10,404 [MainThread  ] [INFO ]  Retrieving https://lda.senate.gov//filings/public/filing/c9c15a6f-182f-492b-a104-71c2df94d786/print/ to /var/folders/l4/syqwd3ts14b0swly1g_hr3h40000gn/T/filings-public-filing-c9c15a6f-182f-492b-a104-71c2df94d786-print.\n",
      "2021-08-07 15:40:11,207 [MainThread  ] [INFO ]  Retrieving https://lda.senate.gov//filings/public/filing/242ad532-4064-4c1c-a408-5eb65c25bb9e/print/ to /var/folders/l4/syqwd3ts14b0swly1g_hr3h40000gn/T/filings-public-filing-242ad532-4064-4c1c-a408-5eb65c25bb9e-print.\n",
      "2021-08-07 15:40:24,941 [MainThread  ] [INFO ]  Retrieving https://lda.senate.gov//filings/public/filing/2a14a8ba-3b99-4bf4-a45d-31a341c9f092/print/ to /var/folders/l4/syqwd3ts14b0swly1g_hr3h40000gn/T/filings-public-filing-2a14a8ba-3b99-4bf4-a45d-31a341c9f092-print.\n",
      "2021-08-07 15:40:43,903 [MainThread  ] [INFO ]  Retrieving https://lda.senate.gov//filings/public/filing/4ca8c09a-053d-4d40-8ac1-2882e0d79fa9/print/ to /var/folders/l4/syqwd3ts14b0swly1g_hr3h40000gn/T/filings-public-filing-4ca8c09a-053d-4d40-8ac1-2882e0d79fa9-print.\n",
      "2021-08-07 15:40:52,878 [MainThread  ] [INFO ]  Retrieving https://lda.senate.gov//filings/public/filing/a25f9e8e-d498-44fd-8a2a-2d769b209ec5/print/ to /var/folders/l4/syqwd3ts14b0swly1g_hr3h40000gn/T/filings-public-filing-a25f9e8e-d498-44fd-8a2a-2d769b209ec5-print.\n",
      "2021-08-07 15:40:57,804 [MainThread  ] [INFO ]  Retrieving https://lda.senate.gov//filings/public/filing/9d7f8c56-422b-43d6-9e70-fcd12c066f05/print/ to /var/folders/l4/syqwd3ts14b0swly1g_hr3h40000gn/T/filings-public-filing-9d7f8c56-422b-43d6-9e70-fcd12c066f05-print.\n",
      "2021-08-07 15:40:58,139 [MainThread  ] [INFO ]  Retrieving https://lda.senate.gov//filings/public/filing/8f9fff41-3950-4340-92bd-df8810a9ee65/print/ to /var/folders/l4/syqwd3ts14b0swly1g_hr3h40000gn/T/filings-public-filing-8f9fff41-3950-4340-92bd-df8810a9ee65-print.\n",
      "2021-08-07 15:40:58,405 [MainThread  ] [INFO ]  Retrieving https://lda.senate.gov//filings/public/filing/57a3568a-20dc-4102-9c1c-bcaeda5b5aad/print/ to /var/folders/l4/syqwd3ts14b0swly1g_hr3h40000gn/T/filings-public-filing-57a3568a-20dc-4102-9c1c-bcaeda5b5aad-print.\n",
      "2021-08-07 15:40:58,668 [MainThread  ] [INFO ]  Retrieving https://lda.senate.gov//filings/public/filing/368e2597-d700-4f0e-ae98-f99092fe96c0/print/ to /var/folders/l4/syqwd3ts14b0swly1g_hr3h40000gn/T/filings-public-filing-368e2597-d700-4f0e-ae98-f99092fe96c0-print.\n",
      "2021-08-07 15:40:58,922 [MainThread  ] [INFO ]  Retrieving https://lda.senate.gov//filings/public/filing/a5771466-e7e3-4e31-b5f2-388fdf4aa110/print/ to /var/folders/l4/syqwd3ts14b0swly1g_hr3h40000gn/T/filings-public-filing-a5771466-e7e3-4e31-b5f2-388fdf4aa110-print.\n",
      "2021-08-07 15:40:59,728 [MainThread  ] [INFO ]  Retrieving https://lda.senate.gov//filings/public/filing/d28087f7-f9cb-4926-8a5f-32ce4aeb6695/print/ to /var/folders/l4/syqwd3ts14b0swly1g_hr3h40000gn/T/filings-public-filing-d28087f7-f9cb-4926-8a5f-32ce4aeb6695-print.\n",
      "2021-08-07 15:40:59,982 [MainThread  ] [INFO ]  Retrieving https://lda.senate.gov//filings/public/filing/ae83a5e6-69ea-4cbe-befd-654c9acd143e/print/ to /var/folders/l4/syqwd3ts14b0swly1g_hr3h40000gn/T/filings-public-filing-ae83a5e6-69ea-4cbe-befd-654c9acd143e-print.\n",
      "2021-08-07 15:41:00,232 [MainThread  ] [INFO ]  Retrieving https://lda.senate.gov//filings/public/filing/2baaba5b-7289-45b9-8ceb-8142ef51e466/print/ to /var/folders/l4/syqwd3ts14b0swly1g_hr3h40000gn/T/filings-public-filing-2baaba5b-7289-45b9-8ceb-8142ef51e466-print.\n",
      "2021-08-07 15:41:00,491 [MainThread  ] [INFO ]  Retrieving https://lda.senate.gov//filings/public/filing/98502fce-b22b-476f-b993-2d13c4515b46/print/ to /var/folders/l4/syqwd3ts14b0swly1g_hr3h40000gn/T/filings-public-filing-98502fce-b22b-476f-b993-2d13c4515b46-print.\n"
     ]
    }
   ],
   "source": [
    "apple_text = []\n",
    "\n",
    "for pdf in df_bigtech['apple_link']:\n",
    "    try:\n",
    "        parsed = parser.from_file(pdf)\n",
    "        text = parsed['content'].strip().replace('\\n',' ').replace('\\t', ' ').replace(u'\\u200b', ' ') \n",
    "    except:\n",
    "        text = 'no PDF'\n",
    "    apple_text.append(text)"
   ]
  },
  {
   "cell_type": "code",
   "execution_count": 12,
   "id": "8f85f11e",
   "metadata": {},
   "outputs": [],
   "source": [
    "df_bigtech['apple_text'] = apple_text"
   ]
  },
  {
   "cell_type": "code",
   "execution_count": 13,
   "id": "3f338f03",
   "metadata": {},
   "outputs": [
    {
     "name": "stderr",
     "output_type": "stream",
     "text": [
      "2021-08-07 15:41:21,332 [MainThread  ] [INFO ]  Retrieving https://lda.senate.gov//filings/public/filing/fad755f6-ba3a-480c-a3a1-678bb14c0a5a/print/ to /var/folders/l4/syqwd3ts14b0swly1g_hr3h40000gn/T/filings-public-filing-fad755f6-ba3a-480c-a3a1-678bb14c0a5a-print.\n",
      "2021-08-07 15:41:21,716 [MainThread  ] [INFO ]  Retrieving https://lda.senate.gov//filings/public/filing/d50d3ddf-86ca-40e6-8f35-91d66edc8d92/print/ to /var/folders/l4/syqwd3ts14b0swly1g_hr3h40000gn/T/filings-public-filing-d50d3ddf-86ca-40e6-8f35-91d66edc8d92-print.\n",
      "2021-08-07 15:41:22,961 [MainThread  ] [INFO ]  Retrieving https://lda.senate.gov//filings/public/filing/0906e6e8-20f7-4e95-a649-68381ad16c87/print/ to /var/folders/l4/syqwd3ts14b0swly1g_hr3h40000gn/T/filings-public-filing-0906e6e8-20f7-4e95-a649-68381ad16c87-print.\n",
      "2021-08-07 15:41:24,135 [MainThread  ] [INFO ]  Retrieving https://lda.senate.gov//filings/public/filing/11832112-0bf4-489a-a552-b64a87401620/print/ to /var/folders/l4/syqwd3ts14b0swly1g_hr3h40000gn/T/filings-public-filing-11832112-0bf4-489a-a552-b64a87401620-print.\n",
      "2021-08-07 15:41:27,538 [MainThread  ] [INFO ]  Retrieving https://lda.senate.gov//filings/public/filing/7c4170d0-26c2-4834-933a-2634d4c6ddeb/print/ to /var/folders/l4/syqwd3ts14b0swly1g_hr3h40000gn/T/filings-public-filing-7c4170d0-26c2-4834-933a-2634d4c6ddeb-print.\n",
      "2021-08-07 15:41:28,819 [MainThread  ] [INFO ]  Retrieving https://lda.senate.gov//filings/public/filing/3d902e09-369a-46e1-994e-bef8c5eec3e8/print/ to /var/folders/l4/syqwd3ts14b0swly1g_hr3h40000gn/T/filings-public-filing-3d902e09-369a-46e1-994e-bef8c5eec3e8-print.\n",
      "2021-08-07 15:41:29,250 [MainThread  ] [INFO ]  Retrieving https://lda.senate.gov//filings/public/filing/0c933ba6-4275-4794-b007-778dc23cddae/print/ to /var/folders/l4/syqwd3ts14b0swly1g_hr3h40000gn/T/filings-public-filing-0c933ba6-4275-4794-b007-778dc23cddae-print.\n",
      "2021-08-07 15:41:29,596 [MainThread  ] [INFO ]  Retrieving https://lda.senate.gov//filings/public/filing/71f0c89e-fa75-4d93-a4a2-5b6cfd028e63/print/ to /var/folders/l4/syqwd3ts14b0swly1g_hr3h40000gn/T/filings-public-filing-71f0c89e-fa75-4d93-a4a2-5b6cfd028e63-print.\n",
      "2021-08-07 15:41:34,325 [MainThread  ] [INFO ]  Retrieving https://lda.senate.gov//filings/public/filing/4e6bfa78-6ae4-4b23-965a-a06df48f3f0d/print/ to /var/folders/l4/syqwd3ts14b0swly1g_hr3h40000gn/T/filings-public-filing-4e6bfa78-6ae4-4b23-965a-a06df48f3f0d-print.\n",
      "2021-08-07 15:41:35,684 [MainThread  ] [INFO ]  Retrieving https://lda.senate.gov//filings/public/filing/133afa37-ba04-4d3e-bd00-c15cc4abe5a0/print/ to /var/folders/l4/syqwd3ts14b0swly1g_hr3h40000gn/T/filings-public-filing-133afa37-ba04-4d3e-bd00-c15cc4abe5a0-print.\n",
      "2021-08-07 15:41:35,965 [MainThread  ] [INFO ]  Retrieving https://lda.senate.gov//filings/public/filing/3bb846c5-adf6-4b3c-b2fc-4167e08d0b37/print/ to /var/folders/l4/syqwd3ts14b0swly1g_hr3h40000gn/T/filings-public-filing-3bb846c5-adf6-4b3c-b2fc-4167e08d0b37-print.\n",
      "2021-08-07 15:41:37,041 [MainThread  ] [INFO ]  Retrieving https://lda.senate.gov//filings/public/filing/0b7bed71-6ae2-4375-a3fc-551280fbaa3a/print/ to /var/folders/l4/syqwd3ts14b0swly1g_hr3h40000gn/T/filings-public-filing-0b7bed71-6ae2-4375-a3fc-551280fbaa3a-print.\n",
      "2021-08-07 15:41:38,166 [MainThread  ] [INFO ]  Retrieving https://lda.senate.gov//filings/public/filing/b1094538-b2bd-4b84-a0fb-7f7d2d83f4e7/print/ to /var/folders/l4/syqwd3ts14b0swly1g_hr3h40000gn/T/filings-public-filing-b1094538-b2bd-4b84-a0fb-7f7d2d83f4e7-print.\n",
      "2021-08-07 15:41:38,437 [MainThread  ] [INFO ]  Retrieving https://lda.senate.gov//filings/public/filing/6bba5be0-7b9d-47c4-abf6-34707a6e0aed/print/ to /var/folders/l4/syqwd3ts14b0swly1g_hr3h40000gn/T/filings-public-filing-6bba5be0-7b9d-47c4-abf6-34707a6e0aed-print.\n",
      "2021-08-07 15:41:38,793 [MainThread  ] [INFO ]  Retrieving https://lda.senate.gov//filings/public/filing/974fd427-8c52-464a-a0af-cfb022a4c56a/print/ to /var/folders/l4/syqwd3ts14b0swly1g_hr3h40000gn/T/filings-public-filing-974fd427-8c52-464a-a0af-cfb022a4c56a-print.\n",
      "2021-08-07 15:41:39,064 [MainThread  ] [INFO ]  Retrieving https://lda.senate.gov//filings/public/filing/7ea78ccf-0dc2-4046-9b22-09d5c6878ba9/print/ to /var/folders/l4/syqwd3ts14b0swly1g_hr3h40000gn/T/filings-public-filing-7ea78ccf-0dc2-4046-9b22-09d5c6878ba9-print.\n",
      "2021-08-07 15:41:39,601 [MainThread  ] [INFO ]  Retrieving https://lda.senate.gov//filings/public/filing/51da8097-6d28-4c21-ad59-45cb95666448/print/ to /var/folders/l4/syqwd3ts14b0swly1g_hr3h40000gn/T/filings-public-filing-51da8097-6d28-4c21-ad59-45cb95666448-print.\n",
      "2021-08-07 15:41:40,134 [MainThread  ] [INFO ]  Retrieving https://lda.senate.gov//filings/public/filing/433bf5c8-8547-48df-84b9-75fd4de27386/print/ to /var/folders/l4/syqwd3ts14b0swly1g_hr3h40000gn/T/filings-public-filing-433bf5c8-8547-48df-84b9-75fd4de27386-print.\n",
      "2021-08-07 15:41:42,581 [MainThread  ] [INFO ]  Retrieving https://lda.senate.gov//filings/public/filing/57241d89-0855-423d-a6db-944b5a1b38a7/print/ to /var/folders/l4/syqwd3ts14b0swly1g_hr3h40000gn/T/filings-public-filing-57241d89-0855-423d-a6db-944b5a1b38a7-print.\n",
      "2021-08-07 15:41:42,933 [MainThread  ] [INFO ]  Retrieving https://lda.senate.gov//filings/public/filing/0458557f-0257-4de5-b57e-b12eecabe487/print/ to /var/folders/l4/syqwd3ts14b0swly1g_hr3h40000gn/T/filings-public-filing-0458557f-0257-4de5-b57e-b12eecabe487-print.\n",
      "2021-08-07 15:41:45,384 [MainThread  ] [INFO ]  Retrieving https://lda.senate.gov//filings/public/filing/4064f258-cde1-4467-8726-c26aa110e8d4/print/ to /var/folders/l4/syqwd3ts14b0swly1g_hr3h40000gn/T/filings-public-filing-4064f258-cde1-4467-8726-c26aa110e8d4-print.\n",
      "2021-08-07 15:41:49,035 [MainThread  ] [INFO ]  Retrieving https://lda.senate.gov//filings/public/filing/e9792b72-911d-46ae-825f-238634e4de67/print/ to /var/folders/l4/syqwd3ts14b0swly1g_hr3h40000gn/T/filings-public-filing-e9792b72-911d-46ae-825f-238634e4de67-print.\n",
      "2021-08-07 15:41:49,400 [MainThread  ] [INFO ]  Retrieving https://lda.senate.gov//filings/public/filing/343f35cf-2b3e-42ad-91f6-e83bd8f813be/print/ to /var/folders/l4/syqwd3ts14b0swly1g_hr3h40000gn/T/filings-public-filing-343f35cf-2b3e-42ad-91f6-e83bd8f813be-print.\n",
      "2021-08-07 15:41:50,882 [MainThread  ] [INFO ]  Retrieving https://lda.senate.gov//filings/public/filing/ada25799-e70e-488b-b329-5e2234aabc5e/print/ to /var/folders/l4/syqwd3ts14b0swly1g_hr3h40000gn/T/filings-public-filing-ada25799-e70e-488b-b329-5e2234aabc5e-print.\n",
      "2021-08-07 15:41:52,287 [MainThread  ] [INFO ]  Retrieving https://lda.senate.gov//filings/public/filing/2d63356a-e7ee-42c9-944d-9fccea2ef743/print/ to /var/folders/l4/syqwd3ts14b0swly1g_hr3h40000gn/T/filings-public-filing-2d63356a-e7ee-42c9-944d-9fccea2ef743-print.\n",
      "2021-08-07 15:42:20,411 [MainThread  ] [INFO ]  Retrieving https://lda.senate.gov//filings/public/filing/e3973a1f-4d52-42ad-8d21-f8e8a6d7cb57/print/ to /var/folders/l4/syqwd3ts14b0swly1g_hr3h40000gn/T/filings-public-filing-e3973a1f-4d52-42ad-8d21-f8e8a6d7cb57-print.\n",
      "2021-08-07 15:42:21,046 [MainThread  ] [INFO ]  Retrieving https://lda.senate.gov//filings/public/filing/6ce9e3cc-552f-41e2-b589-0130f06bba68/print/ to /var/folders/l4/syqwd3ts14b0swly1g_hr3h40000gn/T/filings-public-filing-6ce9e3cc-552f-41e2-b589-0130f06bba68-print.\n",
      "2021-08-07 15:42:49,748 [MainThread  ] [INFO ]  Retrieving https://lda.senate.gov//filings/public/filing/592cc79e-0836-4430-ac25-f76a4cf183cd/print/ to /var/folders/l4/syqwd3ts14b0swly1g_hr3h40000gn/T/filings-public-filing-592cc79e-0836-4430-ac25-f76a4cf183cd-print.\n",
      "2021-08-07 15:43:00,045 [MainThread  ] [INFO ]  Retrieving https://lda.senate.gov//filings/public/filing/14d296e1-1713-4812-adc7-551e91f102ca/print/ to /var/folders/l4/syqwd3ts14b0swly1g_hr3h40000gn/T/filings-public-filing-14d296e1-1713-4812-adc7-551e91f102ca-print.\n",
      "2021-08-07 15:43:00,404 [MainThread  ] [INFO ]  Retrieving https://lda.senate.gov//filings/public/filing/1541df52-b988-4186-8713-369765e6d7dd/print/ to /var/folders/l4/syqwd3ts14b0swly1g_hr3h40000gn/T/filings-public-filing-1541df52-b988-4186-8713-369765e6d7dd-print.\n",
      "2021-08-07 15:43:00,805 [MainThread  ] [INFO ]  Retrieving https://lda.senate.gov//filings/public/filing/a3cce9f5-9a94-4035-80c5-36c1b2c82b69/print/ to /var/folders/l4/syqwd3ts14b0swly1g_hr3h40000gn/T/filings-public-filing-a3cce9f5-9a94-4035-80c5-36c1b2c82b69-print.\n"
     ]
    },
    {
     "name": "stderr",
     "output_type": "stream",
     "text": [
      "2021-08-07 15:43:01,079 [MainThread  ] [INFO ]  Retrieving https://lda.senate.gov//filings/public/filing/e106dded-6546-4a9e-b1df-bf282b434f3b/print/ to /var/folders/l4/syqwd3ts14b0swly1g_hr3h40000gn/T/filings-public-filing-e106dded-6546-4a9e-b1df-bf282b434f3b-print.\n",
      "2021-08-07 15:43:01,366 [MainThread  ] [INFO ]  Retrieving https://lda.senate.gov//filings/public/filing/f43f5de8-0f33-4103-aef1-afb81d8f2255/print/ to /var/folders/l4/syqwd3ts14b0swly1g_hr3h40000gn/T/filings-public-filing-f43f5de8-0f33-4103-aef1-afb81d8f2255-print.\n",
      "2021-08-07 15:43:02,803 [MainThread  ] [INFO ]  Retrieving https://lda.senate.gov//filings/public/filing/c696210e-819c-412a-98ae-78d4b9fd187b/print/ to /var/folders/l4/syqwd3ts14b0swly1g_hr3h40000gn/T/filings-public-filing-c696210e-819c-412a-98ae-78d4b9fd187b-print.\n",
      "2021-08-07 15:43:03,678 [MainThread  ] [INFO ]  Retrieving https://lda.senate.gov//filings/public/filing/6e13e7d9-8d00-460b-81f1-a4ec8821c531/print/ to /var/folders/l4/syqwd3ts14b0swly1g_hr3h40000gn/T/filings-public-filing-6e13e7d9-8d00-460b-81f1-a4ec8821c531-print.\n",
      "2021-08-07 15:43:40,369 [MainThread  ] [INFO ]  Retrieving https://lda.senate.gov//filings/public/filing/360ca7f4-ec45-459b-a110-a06159c034bd/print/ to /var/folders/l4/syqwd3ts14b0swly1g_hr3h40000gn/T/filings-public-filing-360ca7f4-ec45-459b-a110-a06159c034bd-print.\n",
      "2021-08-07 15:43:41,001 [MainThread  ] [INFO ]  Retrieving https://lda.senate.gov//filings/public/filing/ff355b1e-4713-43a5-98f5-33e5d806044f/print/ to /var/folders/l4/syqwd3ts14b0swly1g_hr3h40000gn/T/filings-public-filing-ff355b1e-4713-43a5-98f5-33e5d806044f-print.\n",
      "2021-08-07 15:43:41,588 [MainThread  ] [INFO ]  Retrieving https://lda.senate.gov//filings/public/filing/f65eea50-f801-45c6-9c1e-7fdc251d65f7/print/ to /var/folders/l4/syqwd3ts14b0swly1g_hr3h40000gn/T/filings-public-filing-f65eea50-f801-45c6-9c1e-7fdc251d65f7-print.\n",
      "2021-08-07 15:43:41,883 [MainThread  ] [INFO ]  Retrieving https://lda.senate.gov//filings/public/filing/118e61df-875f-4d63-a9e6-6967405f8791/print/ to /var/folders/l4/syqwd3ts14b0swly1g_hr3h40000gn/T/filings-public-filing-118e61df-875f-4d63-a9e6-6967405f8791-print.\n",
      "2021-08-07 15:43:42,174 [MainThread  ] [INFO ]  Retrieving https://lda.senate.gov//filings/public/filing/c804f2d7-547d-4af1-9e9a-91eec9c68cc3/print/ to /var/folders/l4/syqwd3ts14b0swly1g_hr3h40000gn/T/filings-public-filing-c804f2d7-547d-4af1-9e9a-91eec9c68cc3-print.\n",
      "2021-08-07 15:43:42,454 [MainThread  ] [INFO ]  Retrieving https://lda.senate.gov//filings/public/filing/6c90cb12-01de-4ca6-befe-61a719c06b59/print/ to /var/folders/l4/syqwd3ts14b0swly1g_hr3h40000gn/T/filings-public-filing-6c90cb12-01de-4ca6-befe-61a719c06b59-print.\n",
      "2021-08-07 15:43:42,727 [MainThread  ] [INFO ]  Retrieving https://lda.senate.gov//filings/public/filing/a8a73851-8204-4bf4-85e8-cbf6d419b07c/print/ to /var/folders/l4/syqwd3ts14b0swly1g_hr3h40000gn/T/filings-public-filing-a8a73851-8204-4bf4-85e8-cbf6d419b07c-print.\n",
      "2021-08-07 15:43:43,021 [MainThread  ] [INFO ]  Retrieving https://lda.senate.gov//filings/public/filing/03aa3c79-0d52-4a48-a632-f5fe97f7fb49/print/ to /var/folders/l4/syqwd3ts14b0swly1g_hr3h40000gn/T/filings-public-filing-03aa3c79-0d52-4a48-a632-f5fe97f7fb49-print.\n",
      "2021-08-07 15:43:43,288 [MainThread  ] [INFO ]  Retrieving https://lda.senate.gov//filings/public/filing/3e4f6e2a-adf3-4713-bd6c-053064cf216a/print/ to /var/folders/l4/syqwd3ts14b0swly1g_hr3h40000gn/T/filings-public-filing-3e4f6e2a-adf3-4713-bd6c-053064cf216a-print.\n",
      "2021-08-07 15:43:43,555 [MainThread  ] [INFO ]  Retrieving https://lda.senate.gov//filings/public/filing/be0faeba-7719-40b5-b31d-8331096a2c7f/print/ to /var/folders/l4/syqwd3ts14b0swly1g_hr3h40000gn/T/filings-public-filing-be0faeba-7719-40b5-b31d-8331096a2c7f-print.\n",
      "2021-08-07 15:43:43,837 [MainThread  ] [INFO ]  Retrieving https://lda.senate.gov//filings/public/filing/b5acd953-5ec4-4c44-9f5b-554122395340/print/ to /var/folders/l4/syqwd3ts14b0swly1g_hr3h40000gn/T/filings-public-filing-b5acd953-5ec4-4c44-9f5b-554122395340-print.\n"
     ]
    }
   ],
   "source": [
    "microsoft_text = []\n",
    "\n",
    "for pdf in df_bigtech['microsoft_link']:\n",
    "    try:\n",
    "        parsed = parser.from_file(pdf)\n",
    "        text = parsed['content'].strip().replace('\\n',' ').replace('\\t', ' ').replace(u'\\u200b', ' ') \n",
    "    except:\n",
    "        text = 'no PDF'\n",
    "    microsoft_text.append(text)"
   ]
  },
  {
   "cell_type": "code",
   "execution_count": 14,
   "id": "5a141aca",
   "metadata": {},
   "outputs": [],
   "source": [
    "df_bigtech['microsoft_text'] = microsoft_text"
   ]
  },
  {
   "cell_type": "code",
   "execution_count": 18,
   "id": "5a2e821e",
   "metadata": {},
   "outputs": [
    {
     "data": {
      "text/html": [
       "<div>\n",
       "<style scoped>\n",
       "    .dataframe tbody tr th:only-of-type {\n",
       "        vertical-align: middle;\n",
       "    }\n",
       "\n",
       "    .dataframe tbody tr th {\n",
       "        vertical-align: top;\n",
       "    }\n",
       "\n",
       "    .dataframe thead th {\n",
       "        text-align: right;\n",
       "    }\n",
       "</style>\n",
       "<table border=\"1\" class=\"dataframe\">\n",
       "  <thead>\n",
       "    <tr style=\"text-align: right;\">\n",
       "      <th></th>\n",
       "      <th>season</th>\n",
       "      <th>year</th>\n",
       "      <th>amazon_lobby</th>\n",
       "      <th>facebook_lobby</th>\n",
       "      <th>google_lobby</th>\n",
       "      <th>apple_lobby</th>\n",
       "      <th>microsoft_lobby</th>\n",
       "      <th>amazon_link</th>\n",
       "      <th>facebook_link</th>\n",
       "      <th>google_link</th>\n",
       "      <th>apple_link</th>\n",
       "      <th>microsoft_link</th>\n",
       "      <th>amazon_text</th>\n",
       "      <th>facebook_text</th>\n",
       "      <th>google_text</th>\n",
       "      <th>apple_text</th>\n",
       "      <th>microsoft_text</th>\n",
       "    </tr>\n",
       "  </thead>\n",
       "  <tbody>\n",
       "    <tr>\n",
       "      <th>0</th>\n",
       "      <td>2021 2nd Quarter - Report</td>\n",
       "      <td>2021</td>\n",
       "      <td>4860000</td>\n",
       "      <td>4770000</td>\n",
       "      <td>2090000</td>\n",
       "      <td>1640000</td>\n",
       "      <td>2470000</td>\n",
       "      <td>https://lda.senate.gov//filings/public/filing/532894c6-bc65-4e48-b7e9-8c2747fa5426/print/</td>\n",
       "      <td>https://lda.senate.gov//filings/public/filing/20bc0f7b-a3d0-4c00-bc5d-72a405ff16e7/print/</td>\n",
       "      <td>https://lda.senate.gov//filings/public/filing/bf977a89-15c2-41f5-b59d-7e7a6e17b210/print/</td>\n",
       "      <td>https://lda.senate.gov//filings/public/filing/008a3286-d6d5-4601-afe3-f4c4361785fc/print/</td>\n",
       "      <td>https://lda.senate.gov//filings/public/filing/fad755f6-ba3a-480c-a3a1-678bb14c0a5a/print/</td>\n",
       "      <td>LD-2 Disclosure Form                              Clerk of the House of Representatives                          Legislative Resource Center                          135 Cannon Building           ...</td>\n",
       "      <td>LD-2 Disclosure Form                              Clerk of the House of Representatives                          Legislative Resource Center                          135 Cannon Building           ...</td>\n",
       "      <td>LD-2 Disclosure Form                              Clerk of the House of Representatives                          Legislative Resource Center                          135 Cannon Building           ...</td>\n",
       "      <td>LD-2 Disclosure Form                              Clerk of the House of Representatives                          Legislative Resource Center                          135 Cannon Building           ...</td>\n",
       "      <td>LD-2 Disclosure Form                              Clerk of the House of Representatives                          Legislative Resource Center                          135 Cannon Building           ...</td>\n",
       "    </tr>\n",
       "    <tr>\n",
       "      <th>1</th>\n",
       "      <td>2021 1st Quarter - Report</td>\n",
       "      <td>2021</td>\n",
       "      <td>4800000</td>\n",
       "      <td>4790000</td>\n",
       "      <td>2690000</td>\n",
       "      <td>1460000</td>\n",
       "      <td>2590000</td>\n",
       "      <td>https://lda.senate.gov//filings/public/filing/a87a3a40-7aa3-4b09-a90a-1ae233f3f69f/print/</td>\n",
       "      <td>https://lda.senate.gov//filings/public/filing/75504307-e84f-4819-9573-25c28867b498/print/</td>\n",
       "      <td>https://lda.senate.gov//filings/public/filing/047f925e-aa0c-46fa-95aa-f78c29b4f5ee/print/</td>\n",
       "      <td>https://lda.senate.gov//filings/public/filing/931b23da-8021-4f33-8f4b-70e571dba9b8/print/</td>\n",
       "      <td>https://lda.senate.gov//filings/public/filing/d50d3ddf-86ca-40e6-8f35-91d66edc8d92/print/</td>\n",
       "      <td>LD-2 Disclosure Form                              Clerk of the House of Representatives                          Legislative Resource Center                          135 Cannon Building           ...</td>\n",
       "      <td>LD-2 Disclosure Form                              Clerk of the House of Representatives                          Legislative Resource Center                          135 Cannon Building           ...</td>\n",
       "      <td>LD-2 Disclosure Form                              Clerk of the House of Representatives                          Legislative Resource Center                          135 Cannon Building           ...</td>\n",
       "      <td>LD-2 Disclosure Form                              Clerk of the House of Representatives                          Legislative Resource Center                          135 Cannon Building           ...</td>\n",
       "      <td>LD-2 Disclosure Form                              Clerk of the House of Representatives                          Legislative Resource Center                          135 Cannon Building           ...</td>\n",
       "    </tr>\n",
       "    <tr>\n",
       "      <th>2</th>\n",
       "      <td>2020 4th Quarter - Report</td>\n",
       "      <td>2020</td>\n",
       "      <td>4740000</td>\n",
       "      <td>4690000</td>\n",
       "      <td>2110000</td>\n",
       "      <td>1450000</td>\n",
       "      <td>2190000</td>\n",
       "      <td>https://lda.senate.gov//filings/public/filing/57ffc505-528c-4de6-a5fc-9c3c9a01b798/print/</td>\n",
       "      <td>https://lda.senate.gov//filings/public/filing/9caddbc5-946a-4148-8ef3-acc0a97e721f/print/</td>\n",
       "      <td>https://lda.senate.gov//filings/public/filing/65749c45-3697-492e-8430-520cfa2fd6ad/print/</td>\n",
       "      <td>https://lda.senate.gov//filings/public/filing/cad6db2f-c3ca-4b9d-bc24-4c56fc7eaadb/print/</td>\n",
       "      <td>https://lda.senate.gov//filings/public/filing/0906e6e8-20f7-4e95-a649-68381ad16c87/print/</td>\n",
       "      <td>LD-2 Disclosure Form                              Clerk of the House of Representatives                          Legislative Resource Center                          135 Cannon Building           ...</td>\n",
       "      <td>LD-2 Disclosure Form                              Clerk of the House of Representatives                          Legislative Resource Center                          135 Cannon Building           ...</td>\n",
       "      <td>LD-2 Disclosure Form                              Clerk of the House of Representatives                          Legislative Resource Center                          135 Cannon Building           ...</td>\n",
       "      <td>LD-2 Disclosure Form                              Clerk of the House of Representatives                          Legislative Resource Center                          135 Cannon Building           ...</td>\n",
       "      <td>LD-2 Disclosure Form                              Clerk of the House of Representatives                          Legislative Resource Center                          135 Cannon Building           ...</td>\n",
       "    </tr>\n",
       "  </tbody>\n",
       "</table>\n",
       "</div>"
      ],
      "text/plain": [
       "                      season  year  amazon_lobby  facebook_lobby  \\\n",
       "0  2021 2nd Quarter - Report  2021       4860000         4770000   \n",
       "1  2021 1st Quarter - Report  2021       4800000         4790000   \n",
       "2  2020 4th Quarter - Report  2020       4740000         4690000   \n",
       "\n",
       "   google_lobby  apple_lobby  microsoft_lobby  \\\n",
       "0       2090000      1640000          2470000   \n",
       "1       2690000      1460000          2590000   \n",
       "2       2110000      1450000          2190000   \n",
       "\n",
       "                                                                                 amazon_link  \\\n",
       "0  https://lda.senate.gov//filings/public/filing/532894c6-bc65-4e48-b7e9-8c2747fa5426/print/   \n",
       "1  https://lda.senate.gov//filings/public/filing/a87a3a40-7aa3-4b09-a90a-1ae233f3f69f/print/   \n",
       "2  https://lda.senate.gov//filings/public/filing/57ffc505-528c-4de6-a5fc-9c3c9a01b798/print/   \n",
       "\n",
       "                                                                               facebook_link  \\\n",
       "0  https://lda.senate.gov//filings/public/filing/20bc0f7b-a3d0-4c00-bc5d-72a405ff16e7/print/   \n",
       "1  https://lda.senate.gov//filings/public/filing/75504307-e84f-4819-9573-25c28867b498/print/   \n",
       "2  https://lda.senate.gov//filings/public/filing/9caddbc5-946a-4148-8ef3-acc0a97e721f/print/   \n",
       "\n",
       "                                                                                 google_link  \\\n",
       "0  https://lda.senate.gov//filings/public/filing/bf977a89-15c2-41f5-b59d-7e7a6e17b210/print/   \n",
       "1  https://lda.senate.gov//filings/public/filing/047f925e-aa0c-46fa-95aa-f78c29b4f5ee/print/   \n",
       "2  https://lda.senate.gov//filings/public/filing/65749c45-3697-492e-8430-520cfa2fd6ad/print/   \n",
       "\n",
       "                                                                                  apple_link  \\\n",
       "0  https://lda.senate.gov//filings/public/filing/008a3286-d6d5-4601-afe3-f4c4361785fc/print/   \n",
       "1  https://lda.senate.gov//filings/public/filing/931b23da-8021-4f33-8f4b-70e571dba9b8/print/   \n",
       "2  https://lda.senate.gov//filings/public/filing/cad6db2f-c3ca-4b9d-bc24-4c56fc7eaadb/print/   \n",
       "\n",
       "                                                                              microsoft_link  \\\n",
       "0  https://lda.senate.gov//filings/public/filing/fad755f6-ba3a-480c-a3a1-678bb14c0a5a/print/   \n",
       "1  https://lda.senate.gov//filings/public/filing/d50d3ddf-86ca-40e6-8f35-91d66edc8d92/print/   \n",
       "2  https://lda.senate.gov//filings/public/filing/0906e6e8-20f7-4e95-a649-68381ad16c87/print/   \n",
       "\n",
       "                                                                                                                                                                                               amazon_text  \\\n",
       "0  LD-2 Disclosure Form                              Clerk of the House of Representatives                          Legislative Resource Center                          135 Cannon Building           ...   \n",
       "1  LD-2 Disclosure Form                              Clerk of the House of Representatives                          Legislative Resource Center                          135 Cannon Building           ...   \n",
       "2  LD-2 Disclosure Form                              Clerk of the House of Representatives                          Legislative Resource Center                          135 Cannon Building           ...   \n",
       "\n",
       "                                                                                                                                                                                             facebook_text  \\\n",
       "0  LD-2 Disclosure Form                              Clerk of the House of Representatives                          Legislative Resource Center                          135 Cannon Building           ...   \n",
       "1  LD-2 Disclosure Form                              Clerk of the House of Representatives                          Legislative Resource Center                          135 Cannon Building           ...   \n",
       "2  LD-2 Disclosure Form                              Clerk of the House of Representatives                          Legislative Resource Center                          135 Cannon Building           ...   \n",
       "\n",
       "                                                                                                                                                                                               google_text  \\\n",
       "0  LD-2 Disclosure Form                              Clerk of the House of Representatives                          Legislative Resource Center                          135 Cannon Building           ...   \n",
       "1  LD-2 Disclosure Form                              Clerk of the House of Representatives                          Legislative Resource Center                          135 Cannon Building           ...   \n",
       "2  LD-2 Disclosure Form                              Clerk of the House of Representatives                          Legislative Resource Center                          135 Cannon Building           ...   \n",
       "\n",
       "                                                                                                                                                                                                apple_text  \\\n",
       "0  LD-2 Disclosure Form                              Clerk of the House of Representatives                          Legislative Resource Center                          135 Cannon Building           ...   \n",
       "1  LD-2 Disclosure Form                              Clerk of the House of Representatives                          Legislative Resource Center                          135 Cannon Building           ...   \n",
       "2  LD-2 Disclosure Form                              Clerk of the House of Representatives                          Legislative Resource Center                          135 Cannon Building           ...   \n",
       "\n",
       "                                                                                                                                                                                            microsoft_text  \n",
       "0  LD-2 Disclosure Form                              Clerk of the House of Representatives                          Legislative Resource Center                          135 Cannon Building           ...  \n",
       "1  LD-2 Disclosure Form                              Clerk of the House of Representatives                          Legislative Resource Center                          135 Cannon Building           ...  \n",
       "2  LD-2 Disclosure Form                              Clerk of the House of Representatives                          Legislative Resource Center                          135 Cannon Building           ...  "
      ]
     },
     "execution_count": 18,
     "metadata": {},
     "output_type": "execute_result"
    }
   ],
   "source": [
    "df_bigtech.head(3)"
   ]
  },
  {
   "cell_type": "code",
   "execution_count": 1,
   "id": "4ed54a34",
   "metadata": {
    "scrolled": true
   },
   "outputs": [],
   "source": [
    "# df_bigtech.info()"
   ]
  },
  {
   "cell_type": "markdown",
   "id": "f48da958",
   "metadata": {},
   "source": [
    "## Create Big tech csv for project"
   ]
  },
  {
   "cell_type": "code",
   "execution_count": 19,
   "id": "1d33e75b",
   "metadata": {},
   "outputs": [],
   "source": [
    "df_bigtech.to_csv('bigtecg_lobby_detail_2010-2021.csv', index=False)"
   ]
  },
  {
   "cell_type": "markdown",
   "id": "3a4b3f87",
   "metadata": {},
   "source": [
    "## Generate company's CSVs if needed"
   ]
  },
  {
   "cell_type": "code",
   "execution_count": 44,
   "id": "b133688f",
   "metadata": {},
   "outputs": [],
   "source": [
    "# df_amazon = df_bigtech[['season','year','amazon_lobby','amazon_link', 'amazon_text']]\n",
    "# df_amazon.to_csv('amazon_lobby.csv', index=False)"
   ]
  },
  {
   "cell_type": "code",
   "execution_count": 45,
   "id": "f2f591a0",
   "metadata": {},
   "outputs": [],
   "source": [
    "# df_facebook = df_bigtech[['season','year','facebook_lobby','facebook_link', 'facebook_text']]\n",
    "# df_facebook.to_csv('facebook_lobby.csv', index=False)"
   ]
  },
  {
   "cell_type": "code",
   "execution_count": 46,
   "id": "9dfaafad",
   "metadata": {},
   "outputs": [],
   "source": [
    "# df_google = df_bigtech[['season','year','google_lobby','google_link', 'google_text']]\n",
    "# df_google.to_csv('google_lobby.csv',index=False)"
   ]
  },
  {
   "cell_type": "code",
   "execution_count": 49,
   "id": "2322501c",
   "metadata": {},
   "outputs": [],
   "source": [
    "# df_apple = df_bigtech[['season','year','apple_lobby','apple_link', 'apple_text']]\n",
    "# df_apple.to_csv('apple_lobby.csv',index=False)"
   ]
  },
  {
   "cell_type": "code",
   "execution_count": 52,
   "id": "57b5b732",
   "metadata": {},
   "outputs": [],
   "source": [
    "# df_microsoft = df_bigtech[['season','year','microsoft_lobby','microsoft_link', 'microsoft_text']]\n",
    "# df_apple.to_csv('microsoft_lobby.csv',index=False)"
   ]
  },
  {
   "cell_type": "code",
   "execution_count": null,
   "id": "eb119e7d",
   "metadata": {},
   "outputs": [],
   "source": []
  },
  {
   "cell_type": "code",
   "execution_count": null,
   "id": "30e5fa41",
   "metadata": {},
   "outputs": [],
   "source": []
  }
 ],
 "metadata": {
  "kernelspec": {
   "display_name": "Python 3",
   "language": "python",
   "name": "python3"
  },
  "language_info": {
   "codemirror_mode": {
    "name": "ipython",
    "version": 3
   },
   "file_extension": ".py",
   "mimetype": "text/x-python",
   "name": "python",
   "nbconvert_exporter": "python",
   "pygments_lexer": "ipython3",
   "version": "3.8.10"
  }
 },
 "nbformat": 4,
 "nbformat_minor": 5
}
